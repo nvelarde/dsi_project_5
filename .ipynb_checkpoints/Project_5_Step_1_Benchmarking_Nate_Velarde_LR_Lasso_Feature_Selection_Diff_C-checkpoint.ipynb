{
 "cells": [
  {
   "cell_type": "markdown",
   "metadata": {},
   "source": [
    "*For some reason, I had to import the libraries into this notebook as well as in the .py file to get code to work.  Normally, if you import the libraries relevant to the helper/wrapper functions from the .py file, you do not have to import again in your jupyter notebook.*"
   ]
  },
  {
   "cell_type": "code",
   "execution_count": 1,
   "metadata": {
    "collapsed": false
   },
   "outputs": [],
   "source": [
    "from lib.project_5 import load_data_from_database, make_data_dict, general_transformer, general_model\n",
    "from sklearn.preprocessing import StandardScaler\n",
    "from sklearn.feature_selection import SelectKBest, f_classif\n",
    "from sklearn.linear_model import LogisticRegression\n",
    "from sklearn.model_selection import GridSearchCV, cross_val_score\n",
    "import pandas as pd\n",
    "import numpy as np\n",
    "import matplotlib.pyplot as plt\n",
    "%matplotlib inline"
   ]
  },
  {
   "cell_type": "markdown",
   "metadata": {},
   "source": [
    "# Step 1 - Benchmarking"
   ]
  },
  {
   "cell_type": "markdown",
   "metadata": {},
   "source": [
    "\n",
    "**Please refer to Report Writeup *.pdf for further details**"
   ]
  },
  {
   "cell_type": "markdown",
   "metadata": {},
   "source": [
    "## Implementation\n",
    "\n",
    "The following code pipeline implements the functions found in `lib/project_5.py`."
   ]
  },
  {
   "cell_type": "markdown",
   "metadata": {},
   "source": [
    "<img src=\"assets/benchmarking.png\" width=\"600px\">"
   ]
  },
  {
   "cell_type": "markdown",
   "metadata": {},
   "source": [
    "### Loading the data from the database"
   ]
  },
  {
   "cell_type": "code",
   "execution_count": 2,
   "metadata": {
    "collapsed": false
   },
   "outputs": [],
   "source": [
    "madelon_df = load_data_from_database()"
   ]
  },
  {
   "cell_type": "markdown",
   "metadata": {},
   "source": [
    "**Getting an overview of the data**"
   ]
  },
  {
   "cell_type": "code",
   "execution_count": 3,
   "metadata": {
    "collapsed": false
   },
   "outputs": [
    {
     "data": {
      "text/html": [
       "<div>\n",
       "<table border=\"1\" class=\"dataframe\">\n",
       "  <thead>\n",
       "    <tr style=\"text-align: right;\">\n",
       "      <th></th>\n",
       "      <th>index</th>\n",
       "      <th>feat_000</th>\n",
       "      <th>feat_001</th>\n",
       "      <th>feat_002</th>\n",
       "      <th>feat_003</th>\n",
       "      <th>feat_004</th>\n",
       "      <th>feat_005</th>\n",
       "      <th>feat_006</th>\n",
       "      <th>feat_007</th>\n",
       "      <th>feat_008</th>\n",
       "      <th>...</th>\n",
       "      <th>feat_491</th>\n",
       "      <th>feat_492</th>\n",
       "      <th>feat_493</th>\n",
       "      <th>feat_494</th>\n",
       "      <th>feat_495</th>\n",
       "      <th>feat_496</th>\n",
       "      <th>feat_497</th>\n",
       "      <th>feat_498</th>\n",
       "      <th>feat_499</th>\n",
       "      <th>label</th>\n",
       "    </tr>\n",
       "  </thead>\n",
       "  <tbody>\n",
       "    <tr>\n",
       "      <th>0</th>\n",
       "      <td>0</td>\n",
       "      <td>485</td>\n",
       "      <td>477</td>\n",
       "      <td>537</td>\n",
       "      <td>479</td>\n",
       "      <td>452</td>\n",
       "      <td>471</td>\n",
       "      <td>491</td>\n",
       "      <td>476</td>\n",
       "      <td>475</td>\n",
       "      <td>...</td>\n",
       "      <td>481</td>\n",
       "      <td>477</td>\n",
       "      <td>485</td>\n",
       "      <td>511</td>\n",
       "      <td>485</td>\n",
       "      <td>481</td>\n",
       "      <td>479</td>\n",
       "      <td>475</td>\n",
       "      <td>496</td>\n",
       "      <td>-1</td>\n",
       "    </tr>\n",
       "    <tr>\n",
       "      <th>1</th>\n",
       "      <td>1</td>\n",
       "      <td>483</td>\n",
       "      <td>458</td>\n",
       "      <td>460</td>\n",
       "      <td>487</td>\n",
       "      <td>587</td>\n",
       "      <td>475</td>\n",
       "      <td>526</td>\n",
       "      <td>479</td>\n",
       "      <td>485</td>\n",
       "      <td>...</td>\n",
       "      <td>478</td>\n",
       "      <td>487</td>\n",
       "      <td>338</td>\n",
       "      <td>513</td>\n",
       "      <td>486</td>\n",
       "      <td>483</td>\n",
       "      <td>492</td>\n",
       "      <td>510</td>\n",
       "      <td>517</td>\n",
       "      <td>-1</td>\n",
       "    </tr>\n",
       "    <tr>\n",
       "      <th>2</th>\n",
       "      <td>2</td>\n",
       "      <td>487</td>\n",
       "      <td>542</td>\n",
       "      <td>499</td>\n",
       "      <td>468</td>\n",
       "      <td>448</td>\n",
       "      <td>471</td>\n",
       "      <td>442</td>\n",
       "      <td>478</td>\n",
       "      <td>480</td>\n",
       "      <td>...</td>\n",
       "      <td>481</td>\n",
       "      <td>492</td>\n",
       "      <td>650</td>\n",
       "      <td>506</td>\n",
       "      <td>501</td>\n",
       "      <td>480</td>\n",
       "      <td>489</td>\n",
       "      <td>499</td>\n",
       "      <td>498</td>\n",
       "      <td>-1</td>\n",
       "    </tr>\n",
       "    <tr>\n",
       "      <th>3</th>\n",
       "      <td>3</td>\n",
       "      <td>480</td>\n",
       "      <td>491</td>\n",
       "      <td>510</td>\n",
       "      <td>485</td>\n",
       "      <td>495</td>\n",
       "      <td>472</td>\n",
       "      <td>417</td>\n",
       "      <td>474</td>\n",
       "      <td>502</td>\n",
       "      <td>...</td>\n",
       "      <td>480</td>\n",
       "      <td>474</td>\n",
       "      <td>572</td>\n",
       "      <td>454</td>\n",
       "      <td>469</td>\n",
       "      <td>475</td>\n",
       "      <td>482</td>\n",
       "      <td>494</td>\n",
       "      <td>461</td>\n",
       "      <td>1</td>\n",
       "    </tr>\n",
       "    <tr>\n",
       "      <th>4</th>\n",
       "      <td>4</td>\n",
       "      <td>484</td>\n",
       "      <td>502</td>\n",
       "      <td>528</td>\n",
       "      <td>489</td>\n",
       "      <td>466</td>\n",
       "      <td>481</td>\n",
       "      <td>402</td>\n",
       "      <td>478</td>\n",
       "      <td>487</td>\n",
       "      <td>...</td>\n",
       "      <td>479</td>\n",
       "      <td>452</td>\n",
       "      <td>435</td>\n",
       "      <td>486</td>\n",
       "      <td>508</td>\n",
       "      <td>481</td>\n",
       "      <td>504</td>\n",
       "      <td>495</td>\n",
       "      <td>511</td>\n",
       "      <td>1</td>\n",
       "    </tr>\n",
       "  </tbody>\n",
       "</table>\n",
       "<p>5 rows × 502 columns</p>\n",
       "</div>"
      ],
      "text/plain": [
       "   index  feat_000  feat_001  feat_002  feat_003  feat_004  feat_005  \\\n",
       "0      0       485       477       537       479       452       471   \n",
       "1      1       483       458       460       487       587       475   \n",
       "2      2       487       542       499       468       448       471   \n",
       "3      3       480       491       510       485       495       472   \n",
       "4      4       484       502       528       489       466       481   \n",
       "\n",
       "   feat_006  feat_007  feat_008  ...    feat_491  feat_492  feat_493  \\\n",
       "0       491       476       475  ...         481       477       485   \n",
       "1       526       479       485  ...         478       487       338   \n",
       "2       442       478       480  ...         481       492       650   \n",
       "3       417       474       502  ...         480       474       572   \n",
       "4       402       478       487  ...         479       452       435   \n",
       "\n",
       "   feat_494  feat_495  feat_496  feat_497  feat_498  feat_499  label  \n",
       "0       511       485       481       479       475       496     -1  \n",
       "1       513       486       483       492       510       517     -1  \n",
       "2       506       501       480       489       499       498     -1  \n",
       "3       454       469       475       482       494       461      1  \n",
       "4       486       508       481       504       495       511      1  \n",
       "\n",
       "[5 rows x 502 columns]"
      ]
     },
     "execution_count": 3,
     "metadata": {},
     "output_type": "execute_result"
    }
   ],
   "source": [
    "madelon_df.head()"
   ]
  },
  {
   "cell_type": "code",
   "execution_count": 4,
   "metadata": {
    "collapsed": false
   },
   "outputs": [
    {
     "name": "stdout",
     "output_type": "stream",
     "text": [
      "<class 'pandas.core.frame.DataFrame'>\n",
      "RangeIndex: 2000 entries, 0 to 1999\n",
      "Columns: 502 entries, index to label\n",
      "dtypes: int64(502)\n",
      "memory usage: 7.7 MB\n"
     ]
    }
   ],
   "source": [
    "madelon_df.info()"
   ]
  },
  {
   "cell_type": "code",
   "execution_count": 5,
   "metadata": {
    "collapsed": false
   },
   "outputs": [
    {
     "data": {
      "text/plain": [
       "(2000, 502)"
      ]
     },
     "execution_count": 5,
     "metadata": {},
     "output_type": "execute_result"
    }
   ],
   "source": [
    "madelon_df.shape"
   ]
  },
  {
   "cell_type": "markdown",
   "metadata": {},
   "source": [
    "**Creating our target vector**"
   ]
  },
  {
   "cell_type": "code",
   "execution_count": 6,
   "metadata": {
    "collapsed": false
   },
   "outputs": [],
   "source": [
    "y = madelon_df['label']"
   ]
  },
  {
   "cell_type": "code",
   "execution_count": 7,
   "metadata": {
    "collapsed": false
   },
   "outputs": [
    {
     "data": {
      "text/plain": [
       "array([-1,  1])"
      ]
     },
     "execution_count": 7,
     "metadata": {},
     "output_type": "execute_result"
    }
   ],
   "source": [
    "# target vector is comprised of '1's and '-1's\n",
    "\n",
    "y.unique()"
   ]
  },
  {
   "cell_type": "code",
   "execution_count": 8,
   "metadata": {
    "collapsed": false
   },
   "outputs": [
    {
     "data": {
      "text/plain": [
       " 1    1000\n",
       "-1    1000\n",
       "Name: label, dtype: int64"
      ]
     },
     "execution_count": 8,
     "metadata": {},
     "output_type": "execute_result"
    }
   ],
   "source": [
    "# the target vector is evenly distributed\n",
    "\n",
    "y.value_counts()"
   ]
  },
  {
   "cell_type": "markdown",
   "metadata": {},
   "source": [
    "**Creating the feature matrix**"
   ]
  },
  {
   "cell_type": "code",
   "execution_count": 9,
   "metadata": {
    "collapsed": false
   },
   "outputs": [
    {
     "data": {
      "text/html": [
       "<div>\n",
       "<table border=\"1\" class=\"dataframe\">\n",
       "  <thead>\n",
       "    <tr style=\"text-align: right;\">\n",
       "      <th></th>\n",
       "      <th>feat_000</th>\n",
       "      <th>feat_001</th>\n",
       "      <th>feat_002</th>\n",
       "      <th>feat_003</th>\n",
       "      <th>feat_004</th>\n",
       "      <th>feat_005</th>\n",
       "      <th>feat_006</th>\n",
       "      <th>feat_007</th>\n",
       "      <th>feat_008</th>\n",
       "      <th>feat_009</th>\n",
       "      <th>...</th>\n",
       "      <th>feat_490</th>\n",
       "      <th>feat_491</th>\n",
       "      <th>feat_492</th>\n",
       "      <th>feat_493</th>\n",
       "      <th>feat_494</th>\n",
       "      <th>feat_495</th>\n",
       "      <th>feat_496</th>\n",
       "      <th>feat_497</th>\n",
       "      <th>feat_498</th>\n",
       "      <th>feat_499</th>\n",
       "    </tr>\n",
       "  </thead>\n",
       "  <tbody>\n",
       "    <tr>\n",
       "      <th>0</th>\n",
       "      <td>485</td>\n",
       "      <td>477</td>\n",
       "      <td>537</td>\n",
       "      <td>479</td>\n",
       "      <td>452</td>\n",
       "      <td>471</td>\n",
       "      <td>491</td>\n",
       "      <td>476</td>\n",
       "      <td>475</td>\n",
       "      <td>473</td>\n",
       "      <td>...</td>\n",
       "      <td>477</td>\n",
       "      <td>481</td>\n",
       "      <td>477</td>\n",
       "      <td>485</td>\n",
       "      <td>511</td>\n",
       "      <td>485</td>\n",
       "      <td>481</td>\n",
       "      <td>479</td>\n",
       "      <td>475</td>\n",
       "      <td>496</td>\n",
       "    </tr>\n",
       "  </tbody>\n",
       "</table>\n",
       "<p>1 rows × 500 columns</p>\n",
       "</div>"
      ],
      "text/plain": [
       "   feat_000  feat_001  feat_002  feat_003  feat_004  feat_005  feat_006  \\\n",
       "0       485       477       537       479       452       471       491   \n",
       "\n",
       "   feat_007  feat_008  feat_009    ...     feat_490  feat_491  feat_492  \\\n",
       "0       476       475       473    ...          477       481       477   \n",
       "\n",
       "   feat_493  feat_494  feat_495  feat_496  feat_497  feat_498  feat_499  \n",
       "0       485       511       485       481       479       475       496  \n",
       "\n",
       "[1 rows x 500 columns]"
      ]
     },
     "execution_count": 9,
     "metadata": {},
     "output_type": "execute_result"
    }
   ],
   "source": [
    "X = madelon_df.drop(['label', 'index'], axis=1)\n",
    "X.head(1)"
   ]
  },
  {
   "cell_type": "markdown",
   "metadata": {},
   "source": [
    "**Confirming that our target vector and feature matrix have the appropriate shapes for sklearn**"
   ]
  },
  {
   "cell_type": "code",
   "execution_count": 10,
   "metadata": {
    "collapsed": false
   },
   "outputs": [
    {
     "data": {
      "text/plain": [
       "((2000, 500), (2000,))"
      ]
     },
     "execution_count": 10,
     "metadata": {},
     "output_type": "execute_result"
    }
   ],
   "source": [
    "X.shape, y.shape"
   ]
  },
  {
   "cell_type": "markdown",
   "metadata": {},
   "source": [
    "**Spliting the data into Train-Test portions and initializing our data dictionary**"
   ]
  },
  {
   "cell_type": "code",
   "execution_count": 11,
   "metadata": {
    "collapsed": false
   },
   "outputs": [],
   "source": [
    "madelon_data_dict = make_data_dict(X, y, 0.25, 82)"
   ]
  },
  {
   "cell_type": "markdown",
   "metadata": {},
   "source": [
    "**Confirming the completion of the Train-Test-Split**"
   ]
  },
  {
   "cell_type": "code",
   "execution_count": 12,
   "metadata": {
    "collapsed": false
   },
   "outputs": [
    {
     "data": {
      "text/plain": [
       "(500, 500)"
      ]
     },
     "execution_count": 12,
     "metadata": {},
     "output_type": "execute_result"
    }
   ],
   "source": [
    "pd.DataFrame(madelon_data_dict['X_test']).shape"
   ]
  },
  {
   "cell_type": "code",
   "execution_count": 13,
   "metadata": {
    "collapsed": false
   },
   "outputs": [
    {
     "data": {
      "text/plain": [
       "(1500, 500)"
      ]
     },
     "execution_count": 13,
     "metadata": {},
     "output_type": "execute_result"
    }
   ],
   "source": [
    "pd.DataFrame(madelon_data_dict['X_train']).shape"
   ]
  },
  {
   "cell_type": "markdown",
   "metadata": {
    "collapsed": true
   },
   "source": [
    "### Transforming the data using StandardScaler"
   ]
  },
  {
   "cell_type": "code",
   "execution_count": 14,
   "metadata": {
    "collapsed": false
   },
   "outputs": [],
   "source": [
    "scaled_dictionary = general_transformer(StandardScaler(), madelon_data_dict)"
   ]
  },
  {
   "cell_type": "markdown",
   "metadata": {},
   "source": [
    "**Confirming transformation of `X_train` and `X_test`**"
   ]
  },
  {
   "cell_type": "code",
   "execution_count": 15,
   "metadata": {
    "collapsed": false
   },
   "outputs": [
    {
     "data": {
      "text/html": [
       "<div>\n",
       "<table border=\"1\" class=\"dataframe\">\n",
       "  <thead>\n",
       "    <tr style=\"text-align: right;\">\n",
       "      <th></th>\n",
       "      <th>0</th>\n",
       "      <th>1</th>\n",
       "      <th>2</th>\n",
       "      <th>3</th>\n",
       "      <th>4</th>\n",
       "      <th>5</th>\n",
       "      <th>6</th>\n",
       "      <th>7</th>\n",
       "      <th>8</th>\n",
       "      <th>9</th>\n",
       "      <th>...</th>\n",
       "      <th>490</th>\n",
       "      <th>491</th>\n",
       "      <th>492</th>\n",
       "      <th>493</th>\n",
       "      <th>494</th>\n",
       "      <th>495</th>\n",
       "      <th>496</th>\n",
       "      <th>497</th>\n",
       "      <th>498</th>\n",
       "      <th>499</th>\n",
       "    </tr>\n",
       "  </thead>\n",
       "  <tbody>\n",
       "    <tr>\n",
       "      <th>0</th>\n",
       "      <td>1.136431</td>\n",
       "      <td>0.610539</td>\n",
       "      <td>-0.217152</td>\n",
       "      <td>-1.804330</td>\n",
       "      <td>-0.072199</td>\n",
       "      <td>0.395568</td>\n",
       "      <td>1.264948</td>\n",
       "      <td>-0.383904</td>\n",
       "      <td>1.209344</td>\n",
       "      <td>-2.177202</td>\n",
       "      <td>...</td>\n",
       "      <td>0.642616</td>\n",
       "      <td>-0.695112</td>\n",
       "      <td>-0.965624</td>\n",
       "      <td>0.248084</td>\n",
       "      <td>-0.289810</td>\n",
       "      <td>-1.338782</td>\n",
       "      <td>0.658693</td>\n",
       "      <td>-0.365804</td>\n",
       "      <td>-1.764246</td>\n",
       "      <td>0.575991</td>\n",
       "    </tr>\n",
       "    <tr>\n",
       "      <th>1</th>\n",
       "      <td>0.203911</td>\n",
       "      <td>-0.586640</td>\n",
       "      <td>1.968420</td>\n",
       "      <td>0.834651</td>\n",
       "      <td>-2.953655</td>\n",
       "      <td>-0.495351</td>\n",
       "      <td>0.375311</td>\n",
       "      <td>-0.383904</td>\n",
       "      <td>-1.115211</td>\n",
       "      <td>0.059554</td>\n",
       "      <td>...</td>\n",
       "      <td>1.693163</td>\n",
       "      <td>-1.200648</td>\n",
       "      <td>-1.382716</td>\n",
       "      <td>1.732952</td>\n",
       "      <td>-1.359683</td>\n",
       "      <td>-0.672545</td>\n",
       "      <td>-1.768071</td>\n",
       "      <td>0.596839</td>\n",
       "      <td>1.648343</td>\n",
       "      <td>-1.465802</td>\n",
       "    </tr>\n",
       "    <tr>\n",
       "      <th>2</th>\n",
       "      <td>0.048491</td>\n",
       "      <td>0.311244</td>\n",
       "      <td>1.094191</td>\n",
       "      <td>2.044184</td>\n",
       "      <td>0.831308</td>\n",
       "      <td>1.138000</td>\n",
       "      <td>0.350599</td>\n",
       "      <td>-0.383904</td>\n",
       "      <td>0.013859</td>\n",
       "      <td>0.059554</td>\n",
       "      <td>...</td>\n",
       "      <td>-0.551187</td>\n",
       "      <td>-0.947880</td>\n",
       "      <td>0.410780</td>\n",
       "      <td>0.943128</td>\n",
       "      <td>-1.157275</td>\n",
       "      <td>1.059673</td>\n",
       "      <td>-1.248050</td>\n",
       "      <td>-0.884151</td>\n",
       "      <td>1.272152</td>\n",
       "      <td>0.575991</td>\n",
       "    </tr>\n",
       "  </tbody>\n",
       "</table>\n",
       "<p>3 rows × 500 columns</p>\n",
       "</div>"
      ],
      "text/plain": [
       "        0         1         2         3         4         5         6    \\\n",
       "0  1.136431  0.610539 -0.217152 -1.804330 -0.072199  0.395568  1.264948   \n",
       "1  0.203911 -0.586640  1.968420  0.834651 -2.953655 -0.495351  0.375311   \n",
       "2  0.048491  0.311244  1.094191  2.044184  0.831308  1.138000  0.350599   \n",
       "\n",
       "        7         8         9      ...          490       491       492  \\\n",
       "0 -0.383904  1.209344 -2.177202    ...     0.642616 -0.695112 -0.965624   \n",
       "1 -0.383904 -1.115211  0.059554    ...     1.693163 -1.200648 -1.382716   \n",
       "2 -0.383904  0.013859  0.059554    ...    -0.551187 -0.947880  0.410780   \n",
       "\n",
       "        493       494       495       496       497       498       499  \n",
       "0  0.248084 -0.289810 -1.338782  0.658693 -0.365804 -1.764246  0.575991  \n",
       "1  1.732952 -1.359683 -0.672545 -1.768071  0.596839  1.648343 -1.465802  \n",
       "2  0.943128 -1.157275  1.059673 -1.248050 -0.884151  1.272152  0.575991  \n",
       "\n",
       "[3 rows x 500 columns]"
      ]
     },
     "execution_count": 15,
     "metadata": {},
     "output_type": "execute_result"
    }
   ],
   "source": [
    "pd.DataFrame(scaled_dictionary['X_train']).head(3)"
   ]
  },
  {
   "cell_type": "code",
   "execution_count": 16,
   "metadata": {
    "collapsed": false
   },
   "outputs": [
    {
     "data": {
      "text/plain": [
       "(1500, 500)"
      ]
     },
     "execution_count": 16,
     "metadata": {},
     "output_type": "execute_result"
    }
   ],
   "source": [
    "pd.DataFrame(scaled_dictionary['X_train']).shape"
   ]
  },
  {
   "cell_type": "code",
   "execution_count": 17,
   "metadata": {
    "collapsed": false
   },
   "outputs": [
    {
     "data": {
      "text/html": [
       "<div>\n",
       "<table border=\"1\" class=\"dataframe\">\n",
       "  <thead>\n",
       "    <tr style=\"text-align: right;\">\n",
       "      <th></th>\n",
       "      <th>0</th>\n",
       "      <th>1</th>\n",
       "      <th>2</th>\n",
       "      <th>3</th>\n",
       "      <th>4</th>\n",
       "      <th>5</th>\n",
       "      <th>6</th>\n",
       "      <th>7</th>\n",
       "      <th>8</th>\n",
       "      <th>9</th>\n",
       "      <th>...</th>\n",
       "      <th>490</th>\n",
       "      <th>491</th>\n",
       "      <th>492</th>\n",
       "      <th>493</th>\n",
       "      <th>494</th>\n",
       "      <th>495</th>\n",
       "      <th>496</th>\n",
       "      <th>497</th>\n",
       "      <th>498</th>\n",
       "      <th>499</th>\n",
       "    </tr>\n",
       "  </thead>\n",
       "  <tbody>\n",
       "    <tr>\n",
       "      <th>0</th>\n",
       "      <td>-1.350289</td>\n",
       "      <td>-0.453620</td>\n",
       "      <td>-0.834254</td>\n",
       "      <td>-1.254542</td>\n",
       "      <td>0.855727</td>\n",
       "      <td>-1.237783</td>\n",
       "      <td>0.721281</td>\n",
       "      <td>0.341355</td>\n",
       "      <td>1.010097</td>\n",
       "      <td>0.758540</td>\n",
       "      <td>...</td>\n",
       "      <td>0.881377</td>\n",
       "      <td>0.821496</td>\n",
       "      <td>1.078127</td>\n",
       "      <td>-1.134108</td>\n",
       "      <td>-0.492219</td>\n",
       "      <td>-2.671257</td>\n",
       "      <td>0.658693</td>\n",
       "      <td>-0.662002</td>\n",
       "      <td>-1.092476</td>\n",
       "      <td>-0.656790</td>\n",
       "    </tr>\n",
       "    <tr>\n",
       "      <th>1</th>\n",
       "      <td>-0.106929</td>\n",
       "      <td>0.277989</td>\n",
       "      <td>-0.937105</td>\n",
       "      <td>-0.484840</td>\n",
       "      <td>0.611536</td>\n",
       "      <td>0.098595</td>\n",
       "      <td>0.696569</td>\n",
       "      <td>-1.834421</td>\n",
       "      <td>-0.451052</td>\n",
       "      <td>-0.499635</td>\n",
       "      <td>...</td>\n",
       "      <td>-0.264674</td>\n",
       "      <td>0.821496</td>\n",
       "      <td>0.619326</td>\n",
       "      <td>0.848349</td>\n",
       "      <td>-1.764500</td>\n",
       "      <td>0.366786</td>\n",
       "      <td>-0.381349</td>\n",
       "      <td>0.522789</td>\n",
       "      <td>-1.092476</td>\n",
       "      <td>1.616150</td>\n",
       "    </tr>\n",
       "    <tr>\n",
       "      <th>2</th>\n",
       "      <td>0.514751</td>\n",
       "      <td>-0.387110</td>\n",
       "      <td>0.631365</td>\n",
       "      <td>0.174906</td>\n",
       "      <td>-0.121037</td>\n",
       "      <td>-1.980216</td>\n",
       "      <td>1.240235</td>\n",
       "      <td>1.066614</td>\n",
       "      <td>-0.783132</td>\n",
       "      <td>-0.499635</td>\n",
       "      <td>...</td>\n",
       "      <td>-0.598939</td>\n",
       "      <td>0.568728</td>\n",
       "      <td>0.619326</td>\n",
       "      <td>1.867222</td>\n",
       "      <td>0.433077</td>\n",
       "      <td>1.006374</td>\n",
       "      <td>0.138672</td>\n",
       "      <td>1.263284</td>\n",
       "      <td>0.573512</td>\n",
       "      <td>1.885821</td>\n",
       "    </tr>\n",
       "  </tbody>\n",
       "</table>\n",
       "<p>3 rows × 500 columns</p>\n",
       "</div>"
      ],
      "text/plain": [
       "        0         1         2         3         4         5         6    \\\n",
       "0 -1.350289 -0.453620 -0.834254 -1.254542  0.855727 -1.237783  0.721281   \n",
       "1 -0.106929  0.277989 -0.937105 -0.484840  0.611536  0.098595  0.696569   \n",
       "2  0.514751 -0.387110  0.631365  0.174906 -0.121037 -1.980216  1.240235   \n",
       "\n",
       "        7         8         9      ...          490       491       492  \\\n",
       "0  0.341355  1.010097  0.758540    ...     0.881377  0.821496  1.078127   \n",
       "1 -1.834421 -0.451052 -0.499635    ...    -0.264674  0.821496  0.619326   \n",
       "2  1.066614 -0.783132 -0.499635    ...    -0.598939  0.568728  0.619326   \n",
       "\n",
       "        493       494       495       496       497       498       499  \n",
       "0 -1.134108 -0.492219 -2.671257  0.658693 -0.662002 -1.092476 -0.656790  \n",
       "1  0.848349 -1.764500  0.366786 -0.381349  0.522789 -1.092476  1.616150  \n",
       "2  1.867222  0.433077  1.006374  0.138672  1.263284  0.573512  1.885821  \n",
       "\n",
       "[3 rows x 500 columns]"
      ]
     },
     "execution_count": 17,
     "metadata": {},
     "output_type": "execute_result"
    }
   ],
   "source": [
    "pd.DataFrame(scaled_dictionary['X_test']).head(3)"
   ]
  },
  {
   "cell_type": "code",
   "execution_count": 18,
   "metadata": {
    "collapsed": false
   },
   "outputs": [
    {
     "data": {
      "text/plain": [
       "(500, 500)"
      ]
     },
     "execution_count": 18,
     "metadata": {},
     "output_type": "execute_result"
    }
   ],
   "source": [
    "pd.DataFrame(scaled_dictionary['X_test']).shape"
   ]
  },
  {
   "cell_type": "code",
   "execution_count": 19,
   "metadata": {
    "collapsed": false
   },
   "outputs": [
    {
     "data": {
      "text/plain": [
       "StandardScaler(copy=True, with_mean=True, with_std=True)"
      ]
     },
     "execution_count": 19,
     "metadata": {},
     "output_type": "execute_result"
    }
   ],
   "source": [
    "scaled_dictionary['transformer']"
   ]
  },
  {
   "cell_type": "markdown",
   "metadata": {},
   "source": [
    "### Getting a Benchmark Score from 'Out-of-the-Box' Logistic Regression\n",
    "\n",
    "Train and Test Score from \"out-of-the-box\" Logistic Regression\n",
    "\n",
    "- no Regularlization -- setting C=1E6"
   ]
  },
  {
   "cell_type": "code",
   "execution_count": 20,
   "metadata": {
    "collapsed": true
   },
   "outputs": [],
   "source": [
    "log_reg_dict = general_model(LogisticRegression(C=1E6, penalty='l1', n_jobs=-1), scaled_dictionary)"
   ]
  },
  {
   "cell_type": "code",
   "execution_count": 21,
   "metadata": {
    "collapsed": false
   },
   "outputs": [
    {
     "data": {
      "text/plain": [
       "[StandardScaler(copy=True, with_mean=True, with_std=True),\n",
       " LogisticRegression(C=1000000.0, class_weight=None, dual=False,\n",
       "           fit_intercept=True, intercept_scaling=1, max_iter=100,\n",
       "           multi_class='ovr', n_jobs=-1, penalty='l1', random_state=None,\n",
       "           solver='liblinear', tol=0.0001, verbose=0, warm_start=False)]"
      ]
     },
     "execution_count": 21,
     "metadata": {},
     "output_type": "execute_result"
    }
   ],
   "source": [
    "log_reg_dict['processes']"
   ]
  },
  {
   "cell_type": "code",
   "execution_count": 22,
   "metadata": {
    "collapsed": false
   },
   "outputs": [
    {
     "data": {
      "text/plain": [
       "LogisticRegression(C=1000000.0, class_weight=None, dual=False,\n",
       "          fit_intercept=True, intercept_scaling=1, max_iter=100,\n",
       "          multi_class='ovr', n_jobs=-1, penalty='l1', random_state=None,\n",
       "          solver='liblinear', tol=0.0001, verbose=0, warm_start=False)"
      ]
     },
     "execution_count": 22,
     "metadata": {},
     "output_type": "execute_result"
    }
   ],
   "source": [
    "log_reg_dict['model']"
   ]
  },
  {
   "cell_type": "markdown",
   "metadata": {},
   "source": [
    "**Benchmark Train and Test Scores**"
   ]
  },
  {
   "cell_type": "code",
   "execution_count": 23,
   "metadata": {
    "collapsed": false
   },
   "outputs": [
    {
     "name": "stdout",
     "output_type": "stream",
     "text": [
      "Train Score: 0.7953\n",
      "Test Score:  0.5280\n"
     ]
    }
   ],
   "source": [
    "print(\"Train Score: {:.4f}\".format(log_reg_dict['train_score']))\n",
    "print(\"Test Score:  {:.4f}\".format(log_reg_dict['test_score']))"
   ]
  },
  {
   "cell_type": "markdown",
   "metadata": {},
   "source": [
    "**Examining the coefficients from Logistic Regression - Top 10 Features by Size of Coefficient**"
   ]
  },
  {
   "cell_type": "code",
   "execution_count": 24,
   "metadata": {
    "collapsed": false
   },
   "outputs": [
    {
     "data": {
      "text/html": [
       "<div>\n",
       "<table border=\"1\" class=\"dataframe\">\n",
       "  <thead>\n",
       "    <tr style=\"text-align: right;\">\n",
       "      <th></th>\n",
       "      <th>abscoef</th>\n",
       "      <th>coef</th>\n",
       "      <th>variable</th>\n",
       "    </tr>\n",
       "  </thead>\n",
       "  <tbody>\n",
       "    <tr>\n",
       "      <th>475</th>\n",
       "      <td>1.957598</td>\n",
       "      <td>1.957598</td>\n",
       "      <td>feat_475</td>\n",
       "    </tr>\n",
       "    <tr>\n",
       "      <th>48</th>\n",
       "      <td>1.766165</td>\n",
       "      <td>1.766165</td>\n",
       "      <td>feat_048</td>\n",
       "    </tr>\n",
       "    <tr>\n",
       "      <th>442</th>\n",
       "      <td>1.667147</td>\n",
       "      <td>-1.667147</td>\n",
       "      <td>feat_442</td>\n",
       "    </tr>\n",
       "    <tr>\n",
       "      <th>318</th>\n",
       "      <td>1.493372</td>\n",
       "      <td>-1.493372</td>\n",
       "      <td>feat_318</td>\n",
       "    </tr>\n",
       "    <tr>\n",
       "      <th>281</th>\n",
       "      <td>1.433678</td>\n",
       "      <td>-1.433678</td>\n",
       "      <td>feat_281</td>\n",
       "    </tr>\n",
       "    <tr>\n",
       "      <th>453</th>\n",
       "      <td>1.392728</td>\n",
       "      <td>1.392728</td>\n",
       "      <td>feat_453</td>\n",
       "    </tr>\n",
       "    <tr>\n",
       "      <th>451</th>\n",
       "      <td>1.385501</td>\n",
       "      <td>1.385501</td>\n",
       "      <td>feat_451</td>\n",
       "    </tr>\n",
       "    <tr>\n",
       "      <th>105</th>\n",
       "      <td>1.240040</td>\n",
       "      <td>-1.240040</td>\n",
       "      <td>feat_105</td>\n",
       "    </tr>\n",
       "    <tr>\n",
       "      <th>493</th>\n",
       "      <td>1.169382</td>\n",
       "      <td>1.169382</td>\n",
       "      <td>feat_493</td>\n",
       "    </tr>\n",
       "    <tr>\n",
       "      <th>378</th>\n",
       "      <td>1.091859</td>\n",
       "      <td>-1.091859</td>\n",
       "      <td>feat_378</td>\n",
       "    </tr>\n",
       "    <tr>\n",
       "      <th>336</th>\n",
       "      <td>0.683458</td>\n",
       "      <td>-0.683458</td>\n",
       "      <td>feat_336</td>\n",
       "    </tr>\n",
       "    <tr>\n",
       "      <th>153</th>\n",
       "      <td>0.670209</td>\n",
       "      <td>-0.670209</td>\n",
       "      <td>feat_153</td>\n",
       "    </tr>\n",
       "    <tr>\n",
       "      <th>433</th>\n",
       "      <td>0.581789</td>\n",
       "      <td>0.581789</td>\n",
       "      <td>feat_433</td>\n",
       "    </tr>\n",
       "    <tr>\n",
       "      <th>128</th>\n",
       "      <td>0.495666</td>\n",
       "      <td>-0.495666</td>\n",
       "      <td>feat_128</td>\n",
       "    </tr>\n",
       "    <tr>\n",
       "      <th>28</th>\n",
       "      <td>0.494982</td>\n",
       "      <td>0.494982</td>\n",
       "      <td>feat_028</td>\n",
       "    </tr>\n",
       "    <tr>\n",
       "      <th>241</th>\n",
       "      <td>0.357215</td>\n",
       "      <td>-0.357215</td>\n",
       "      <td>feat_241</td>\n",
       "    </tr>\n",
       "    <tr>\n",
       "      <th>168</th>\n",
       "      <td>0.342809</td>\n",
       "      <td>-0.342809</td>\n",
       "      <td>feat_168</td>\n",
       "    </tr>\n",
       "    <tr>\n",
       "      <th>64</th>\n",
       "      <td>0.316045</td>\n",
       "      <td>0.316045</td>\n",
       "      <td>feat_064</td>\n",
       "    </tr>\n",
       "    <tr>\n",
       "      <th>323</th>\n",
       "      <td>0.304741</td>\n",
       "      <td>-0.304741</td>\n",
       "      <td>feat_323</td>\n",
       "    </tr>\n",
       "    <tr>\n",
       "      <th>338</th>\n",
       "      <td>0.298461</td>\n",
       "      <td>0.298461</td>\n",
       "      <td>feat_338</td>\n",
       "    </tr>\n",
       "    <tr>\n",
       "      <th>308</th>\n",
       "      <td>0.287674</td>\n",
       "      <td>0.287674</td>\n",
       "      <td>feat_308</td>\n",
       "    </tr>\n",
       "    <tr>\n",
       "      <th>137</th>\n",
       "      <td>0.284543</td>\n",
       "      <td>0.284543</td>\n",
       "      <td>feat_137</td>\n",
       "    </tr>\n",
       "    <tr>\n",
       "      <th>286</th>\n",
       "      <td>0.283824</td>\n",
       "      <td>-0.283824</td>\n",
       "      <td>feat_286</td>\n",
       "    </tr>\n",
       "    <tr>\n",
       "      <th>481</th>\n",
       "      <td>0.283725</td>\n",
       "      <td>-0.283725</td>\n",
       "      <td>feat_481</td>\n",
       "    </tr>\n",
       "    <tr>\n",
       "      <th>83</th>\n",
       "      <td>0.283322</td>\n",
       "      <td>0.283322</td>\n",
       "      <td>feat_083</td>\n",
       "    </tr>\n",
       "    <tr>\n",
       "      <th>414</th>\n",
       "      <td>0.281254</td>\n",
       "      <td>-0.281254</td>\n",
       "      <td>feat_414</td>\n",
       "    </tr>\n",
       "    <tr>\n",
       "      <th>161</th>\n",
       "      <td>0.278597</td>\n",
       "      <td>-0.278597</td>\n",
       "      <td>feat_161</td>\n",
       "    </tr>\n",
       "    <tr>\n",
       "      <th>61</th>\n",
       "      <td>0.272666</td>\n",
       "      <td>0.272666</td>\n",
       "      <td>feat_061</td>\n",
       "    </tr>\n",
       "    <tr>\n",
       "      <th>277</th>\n",
       "      <td>0.266968</td>\n",
       "      <td>-0.266968</td>\n",
       "      <td>feat_277</td>\n",
       "    </tr>\n",
       "    <tr>\n",
       "      <th>403</th>\n",
       "      <td>0.266486</td>\n",
       "      <td>0.266486</td>\n",
       "      <td>feat_403</td>\n",
       "    </tr>\n",
       "    <tr>\n",
       "      <th>413</th>\n",
       "      <td>0.260155</td>\n",
       "      <td>-0.260155</td>\n",
       "      <td>feat_413</td>\n",
       "    </tr>\n",
       "    <tr>\n",
       "      <th>425</th>\n",
       "      <td>0.257816</td>\n",
       "      <td>-0.257816</td>\n",
       "      <td>feat_425</td>\n",
       "    </tr>\n",
       "    <tr>\n",
       "      <th>42</th>\n",
       "      <td>0.257365</td>\n",
       "      <td>-0.257365</td>\n",
       "      <td>feat_042</td>\n",
       "    </tr>\n",
       "    <tr>\n",
       "      <th>296</th>\n",
       "      <td>0.257168</td>\n",
       "      <td>-0.257168</td>\n",
       "      <td>feat_296</td>\n",
       "    </tr>\n",
       "    <tr>\n",
       "      <th>14</th>\n",
       "      <td>0.252056</td>\n",
       "      <td>-0.252056</td>\n",
       "      <td>feat_014</td>\n",
       "    </tr>\n",
       "    <tr>\n",
       "      <th>452</th>\n",
       "      <td>0.250434</td>\n",
       "      <td>0.250434</td>\n",
       "      <td>feat_452</td>\n",
       "    </tr>\n",
       "    <tr>\n",
       "      <th>282</th>\n",
       "      <td>0.248131</td>\n",
       "      <td>0.248131</td>\n",
       "      <td>feat_282</td>\n",
       "    </tr>\n",
       "    <tr>\n",
       "      <th>26</th>\n",
       "      <td>0.240980</td>\n",
       "      <td>0.240980</td>\n",
       "      <td>feat_026</td>\n",
       "    </tr>\n",
       "    <tr>\n",
       "      <th>21</th>\n",
       "      <td>0.231546</td>\n",
       "      <td>0.231546</td>\n",
       "      <td>feat_021</td>\n",
       "    </tr>\n",
       "    <tr>\n",
       "      <th>445</th>\n",
       "      <td>0.230035</td>\n",
       "      <td>0.230035</td>\n",
       "      <td>feat_445</td>\n",
       "    </tr>\n",
       "  </tbody>\n",
       "</table>\n",
       "</div>"
      ],
      "text/plain": [
       "      abscoef      coef  variable\n",
       "475  1.957598  1.957598  feat_475\n",
       "48   1.766165  1.766165  feat_048\n",
       "442  1.667147 -1.667147  feat_442\n",
       "318  1.493372 -1.493372  feat_318\n",
       "281  1.433678 -1.433678  feat_281\n",
       "453  1.392728  1.392728  feat_453\n",
       "451  1.385501  1.385501  feat_451\n",
       "105  1.240040 -1.240040  feat_105\n",
       "493  1.169382  1.169382  feat_493\n",
       "378  1.091859 -1.091859  feat_378\n",
       "336  0.683458 -0.683458  feat_336\n",
       "153  0.670209 -0.670209  feat_153\n",
       "433  0.581789  0.581789  feat_433\n",
       "128  0.495666 -0.495666  feat_128\n",
       "28   0.494982  0.494982  feat_028\n",
       "241  0.357215 -0.357215  feat_241\n",
       "168  0.342809 -0.342809  feat_168\n",
       "64   0.316045  0.316045  feat_064\n",
       "323  0.304741 -0.304741  feat_323\n",
       "338  0.298461  0.298461  feat_338\n",
       "308  0.287674  0.287674  feat_308\n",
       "137  0.284543  0.284543  feat_137\n",
       "286  0.283824 -0.283824  feat_286\n",
       "481  0.283725 -0.283725  feat_481\n",
       "83   0.283322  0.283322  feat_083\n",
       "414  0.281254 -0.281254  feat_414\n",
       "161  0.278597 -0.278597  feat_161\n",
       "61   0.272666  0.272666  feat_061\n",
       "277  0.266968 -0.266968  feat_277\n",
       "403  0.266486  0.266486  feat_403\n",
       "413  0.260155 -0.260155  feat_413\n",
       "425  0.257816 -0.257816  feat_425\n",
       "42   0.257365 -0.257365  feat_042\n",
       "296  0.257168 -0.257168  feat_296\n",
       "14   0.252056 -0.252056  feat_014\n",
       "452  0.250434  0.250434  feat_452\n",
       "282  0.248131  0.248131  feat_282\n",
       "26   0.240980  0.240980  feat_026\n",
       "21   0.231546  0.231546  feat_021\n",
       "445  0.230035  0.230035  feat_445"
      ]
     },
     "execution_count": 24,
     "metadata": {},
     "output_type": "execute_result"
    }
   ],
   "source": [
    "log_reg_coef_df = pd.DataFrame({'coef': log_reg_dict['model'].coef_[0],\n",
    "                                'variable': X.columns,\n",
    "                                'abscoef': np.abs(log_reg_dict['model'].coef_[0])\n",
    "                               })\n",
    "\n",
    "log_reg_coef_df.sort_values('abscoef', ascending=False, inplace=True)\n",
    "log_reg_coef_df.head(40)"
   ]
  },
  {
   "cell_type": "code",
   "execution_count": 25,
   "metadata": {
    "collapsed": false
   },
   "outputs": [
    {
     "data": {
      "text/plain": [
       "(500, 3)"
      ]
     },
     "execution_count": 25,
     "metadata": {},
     "output_type": "execute_result"
    }
   ],
   "source": [
    "# confirming that all features retained -- no regularization given high C\n",
    "\n",
    "log_reg_coef_df[log_reg_coef_df['coef'] != 0].shape"
   ]
  },
  {
   "cell_type": "markdown",
   "metadata": {},
   "source": [
    "**Features with Non-Zero Coeffients: C=  **"
   ]
  },
  {
   "cell_type": "code",
   "execution_count": 26,
   "metadata": {
    "collapsed": false
   },
   "outputs": [
    {
     "data": {
      "text/html": [
       "<div>\n",
       "<table border=\"1\" class=\"dataframe\">\n",
       "  <thead>\n",
       "    <tr style=\"text-align: right;\">\n",
       "      <th></th>\n",
       "      <th>abscoef</th>\n",
       "      <th>coef</th>\n",
       "      <th>variable</th>\n",
       "    </tr>\n",
       "  </thead>\n",
       "  <tbody>\n",
       "    <tr>\n",
       "      <th>475</th>\n",
       "      <td>1.957598</td>\n",
       "      <td>1.957598</td>\n",
       "      <td>feat_475</td>\n",
       "    </tr>\n",
       "    <tr>\n",
       "      <th>48</th>\n",
       "      <td>1.766165</td>\n",
       "      <td>1.766165</td>\n",
       "      <td>feat_048</td>\n",
       "    </tr>\n",
       "    <tr>\n",
       "      <th>442</th>\n",
       "      <td>1.667147</td>\n",
       "      <td>-1.667147</td>\n",
       "      <td>feat_442</td>\n",
       "    </tr>\n",
       "    <tr>\n",
       "      <th>318</th>\n",
       "      <td>1.493372</td>\n",
       "      <td>-1.493372</td>\n",
       "      <td>feat_318</td>\n",
       "    </tr>\n",
       "    <tr>\n",
       "      <th>281</th>\n",
       "      <td>1.433678</td>\n",
       "      <td>-1.433678</td>\n",
       "      <td>feat_281</td>\n",
       "    </tr>\n",
       "    <tr>\n",
       "      <th>453</th>\n",
       "      <td>1.392728</td>\n",
       "      <td>1.392728</td>\n",
       "      <td>feat_453</td>\n",
       "    </tr>\n",
       "    <tr>\n",
       "      <th>451</th>\n",
       "      <td>1.385501</td>\n",
       "      <td>1.385501</td>\n",
       "      <td>feat_451</td>\n",
       "    </tr>\n",
       "    <tr>\n",
       "      <th>105</th>\n",
       "      <td>1.240040</td>\n",
       "      <td>-1.240040</td>\n",
       "      <td>feat_105</td>\n",
       "    </tr>\n",
       "    <tr>\n",
       "      <th>493</th>\n",
       "      <td>1.169382</td>\n",
       "      <td>1.169382</td>\n",
       "      <td>feat_493</td>\n",
       "    </tr>\n",
       "    <tr>\n",
       "      <th>378</th>\n",
       "      <td>1.091859</td>\n",
       "      <td>-1.091859</td>\n",
       "      <td>feat_378</td>\n",
       "    </tr>\n",
       "    <tr>\n",
       "      <th>336</th>\n",
       "      <td>0.683458</td>\n",
       "      <td>-0.683458</td>\n",
       "      <td>feat_336</td>\n",
       "    </tr>\n",
       "    <tr>\n",
       "      <th>153</th>\n",
       "      <td>0.670209</td>\n",
       "      <td>-0.670209</td>\n",
       "      <td>feat_153</td>\n",
       "    </tr>\n",
       "    <tr>\n",
       "      <th>433</th>\n",
       "      <td>0.581789</td>\n",
       "      <td>0.581789</td>\n",
       "      <td>feat_433</td>\n",
       "    </tr>\n",
       "    <tr>\n",
       "      <th>128</th>\n",
       "      <td>0.495666</td>\n",
       "      <td>-0.495666</td>\n",
       "      <td>feat_128</td>\n",
       "    </tr>\n",
       "    <tr>\n",
       "      <th>28</th>\n",
       "      <td>0.494982</td>\n",
       "      <td>0.494982</td>\n",
       "      <td>feat_028</td>\n",
       "    </tr>\n",
       "    <tr>\n",
       "      <th>241</th>\n",
       "      <td>0.357215</td>\n",
       "      <td>-0.357215</td>\n",
       "      <td>feat_241</td>\n",
       "    </tr>\n",
       "    <tr>\n",
       "      <th>168</th>\n",
       "      <td>0.342809</td>\n",
       "      <td>-0.342809</td>\n",
       "      <td>feat_168</td>\n",
       "    </tr>\n",
       "    <tr>\n",
       "      <th>64</th>\n",
       "      <td>0.316045</td>\n",
       "      <td>0.316045</td>\n",
       "      <td>feat_064</td>\n",
       "    </tr>\n",
       "    <tr>\n",
       "      <th>323</th>\n",
       "      <td>0.304741</td>\n",
       "      <td>-0.304741</td>\n",
       "      <td>feat_323</td>\n",
       "    </tr>\n",
       "    <tr>\n",
       "      <th>338</th>\n",
       "      <td>0.298461</td>\n",
       "      <td>0.298461</td>\n",
       "      <td>feat_338</td>\n",
       "    </tr>\n",
       "    <tr>\n",
       "      <th>308</th>\n",
       "      <td>0.287674</td>\n",
       "      <td>0.287674</td>\n",
       "      <td>feat_308</td>\n",
       "    </tr>\n",
       "    <tr>\n",
       "      <th>137</th>\n",
       "      <td>0.284543</td>\n",
       "      <td>0.284543</td>\n",
       "      <td>feat_137</td>\n",
       "    </tr>\n",
       "    <tr>\n",
       "      <th>286</th>\n",
       "      <td>0.283824</td>\n",
       "      <td>-0.283824</td>\n",
       "      <td>feat_286</td>\n",
       "    </tr>\n",
       "    <tr>\n",
       "      <th>481</th>\n",
       "      <td>0.283725</td>\n",
       "      <td>-0.283725</td>\n",
       "      <td>feat_481</td>\n",
       "    </tr>\n",
       "    <tr>\n",
       "      <th>83</th>\n",
       "      <td>0.283322</td>\n",
       "      <td>0.283322</td>\n",
       "      <td>feat_083</td>\n",
       "    </tr>\n",
       "    <tr>\n",
       "      <th>414</th>\n",
       "      <td>0.281254</td>\n",
       "      <td>-0.281254</td>\n",
       "      <td>feat_414</td>\n",
       "    </tr>\n",
       "    <tr>\n",
       "      <th>161</th>\n",
       "      <td>0.278597</td>\n",
       "      <td>-0.278597</td>\n",
       "      <td>feat_161</td>\n",
       "    </tr>\n",
       "    <tr>\n",
       "      <th>61</th>\n",
       "      <td>0.272666</td>\n",
       "      <td>0.272666</td>\n",
       "      <td>feat_061</td>\n",
       "    </tr>\n",
       "    <tr>\n",
       "      <th>277</th>\n",
       "      <td>0.266968</td>\n",
       "      <td>-0.266968</td>\n",
       "      <td>feat_277</td>\n",
       "    </tr>\n",
       "    <tr>\n",
       "      <th>403</th>\n",
       "      <td>0.266486</td>\n",
       "      <td>0.266486</td>\n",
       "      <td>feat_403</td>\n",
       "    </tr>\n",
       "    <tr>\n",
       "      <th>...</th>\n",
       "      <td>...</td>\n",
       "      <td>...</td>\n",
       "      <td>...</td>\n",
       "    </tr>\n",
       "    <tr>\n",
       "      <th>397</th>\n",
       "      <td>0.007921</td>\n",
       "      <td>-0.007921</td>\n",
       "      <td>feat_397</td>\n",
       "    </tr>\n",
       "    <tr>\n",
       "      <th>489</th>\n",
       "      <td>0.007860</td>\n",
       "      <td>-0.007860</td>\n",
       "      <td>feat_489</td>\n",
       "    </tr>\n",
       "    <tr>\n",
       "      <th>210</th>\n",
       "      <td>0.007744</td>\n",
       "      <td>-0.007744</td>\n",
       "      <td>feat_210</td>\n",
       "    </tr>\n",
       "    <tr>\n",
       "      <th>102</th>\n",
       "      <td>0.007735</td>\n",
       "      <td>0.007735</td>\n",
       "      <td>feat_102</td>\n",
       "    </tr>\n",
       "    <tr>\n",
       "      <th>58</th>\n",
       "      <td>0.007613</td>\n",
       "      <td>-0.007613</td>\n",
       "      <td>feat_058</td>\n",
       "    </tr>\n",
       "    <tr>\n",
       "      <th>145</th>\n",
       "      <td>0.007514</td>\n",
       "      <td>-0.007514</td>\n",
       "      <td>feat_145</td>\n",
       "    </tr>\n",
       "    <tr>\n",
       "      <th>329</th>\n",
       "      <td>0.007247</td>\n",
       "      <td>-0.007247</td>\n",
       "      <td>feat_329</td>\n",
       "    </tr>\n",
       "    <tr>\n",
       "      <th>52</th>\n",
       "      <td>0.007242</td>\n",
       "      <td>-0.007242</td>\n",
       "      <td>feat_052</td>\n",
       "    </tr>\n",
       "    <tr>\n",
       "      <th>224</th>\n",
       "      <td>0.006520</td>\n",
       "      <td>0.006520</td>\n",
       "      <td>feat_224</td>\n",
       "    </tr>\n",
       "    <tr>\n",
       "      <th>116</th>\n",
       "      <td>0.005391</td>\n",
       "      <td>-0.005391</td>\n",
       "      <td>feat_116</td>\n",
       "    </tr>\n",
       "    <tr>\n",
       "      <th>107</th>\n",
       "      <td>0.005058</td>\n",
       "      <td>-0.005058</td>\n",
       "      <td>feat_107</td>\n",
       "    </tr>\n",
       "    <tr>\n",
       "      <th>120</th>\n",
       "      <td>0.005056</td>\n",
       "      <td>0.005056</td>\n",
       "      <td>feat_120</td>\n",
       "    </tr>\n",
       "    <tr>\n",
       "      <th>470</th>\n",
       "      <td>0.004692</td>\n",
       "      <td>-0.004692</td>\n",
       "      <td>feat_470</td>\n",
       "    </tr>\n",
       "    <tr>\n",
       "      <th>370</th>\n",
       "      <td>0.004571</td>\n",
       "      <td>0.004571</td>\n",
       "      <td>feat_370</td>\n",
       "    </tr>\n",
       "    <tr>\n",
       "      <th>257</th>\n",
       "      <td>0.004164</td>\n",
       "      <td>0.004164</td>\n",
       "      <td>feat_257</td>\n",
       "    </tr>\n",
       "    <tr>\n",
       "      <th>20</th>\n",
       "      <td>0.003882</td>\n",
       "      <td>-0.003882</td>\n",
       "      <td>feat_020</td>\n",
       "    </tr>\n",
       "    <tr>\n",
       "      <th>155</th>\n",
       "      <td>0.003013</td>\n",
       "      <td>0.003013</td>\n",
       "      <td>feat_155</td>\n",
       "    </tr>\n",
       "    <tr>\n",
       "      <th>391</th>\n",
       "      <td>0.002816</td>\n",
       "      <td>0.002816</td>\n",
       "      <td>feat_391</td>\n",
       "    </tr>\n",
       "    <tr>\n",
       "      <th>150</th>\n",
       "      <td>0.002672</td>\n",
       "      <td>-0.002672</td>\n",
       "      <td>feat_150</td>\n",
       "    </tr>\n",
       "    <tr>\n",
       "      <th>379</th>\n",
       "      <td>0.002162</td>\n",
       "      <td>-0.002162</td>\n",
       "      <td>feat_379</td>\n",
       "    </tr>\n",
       "    <tr>\n",
       "      <th>250</th>\n",
       "      <td>0.002008</td>\n",
       "      <td>0.002008</td>\n",
       "      <td>feat_250</td>\n",
       "    </tr>\n",
       "    <tr>\n",
       "      <th>172</th>\n",
       "      <td>0.001411</td>\n",
       "      <td>0.001411</td>\n",
       "      <td>feat_172</td>\n",
       "    </tr>\n",
       "    <tr>\n",
       "      <th>415</th>\n",
       "      <td>0.001396</td>\n",
       "      <td>-0.001396</td>\n",
       "      <td>feat_415</td>\n",
       "    </tr>\n",
       "    <tr>\n",
       "      <th>216</th>\n",
       "      <td>0.001085</td>\n",
       "      <td>-0.001085</td>\n",
       "      <td>feat_216</td>\n",
       "    </tr>\n",
       "    <tr>\n",
       "      <th>90</th>\n",
       "      <td>0.001081</td>\n",
       "      <td>-0.001081</td>\n",
       "      <td>feat_090</td>\n",
       "    </tr>\n",
       "    <tr>\n",
       "      <th>290</th>\n",
       "      <td>0.000868</td>\n",
       "      <td>-0.000868</td>\n",
       "      <td>feat_290</td>\n",
       "    </tr>\n",
       "    <tr>\n",
       "      <th>36</th>\n",
       "      <td>0.000606</td>\n",
       "      <td>0.000606</td>\n",
       "      <td>feat_036</td>\n",
       "    </tr>\n",
       "    <tr>\n",
       "      <th>466</th>\n",
       "      <td>0.000417</td>\n",
       "      <td>-0.000417</td>\n",
       "      <td>feat_466</td>\n",
       "    </tr>\n",
       "    <tr>\n",
       "      <th>98</th>\n",
       "      <td>0.000362</td>\n",
       "      <td>0.000362</td>\n",
       "      <td>feat_098</td>\n",
       "    </tr>\n",
       "    <tr>\n",
       "      <th>332</th>\n",
       "      <td>0.000079</td>\n",
       "      <td>-0.000079</td>\n",
       "      <td>feat_332</td>\n",
       "    </tr>\n",
       "  </tbody>\n",
       "</table>\n",
       "<p>500 rows × 3 columns</p>\n",
       "</div>"
      ],
      "text/plain": [
       "      abscoef      coef  variable\n",
       "475  1.957598  1.957598  feat_475\n",
       "48   1.766165  1.766165  feat_048\n",
       "442  1.667147 -1.667147  feat_442\n",
       "318  1.493372 -1.493372  feat_318\n",
       "281  1.433678 -1.433678  feat_281\n",
       "453  1.392728  1.392728  feat_453\n",
       "451  1.385501  1.385501  feat_451\n",
       "105  1.240040 -1.240040  feat_105\n",
       "493  1.169382  1.169382  feat_493\n",
       "378  1.091859 -1.091859  feat_378\n",
       "336  0.683458 -0.683458  feat_336\n",
       "153  0.670209 -0.670209  feat_153\n",
       "433  0.581789  0.581789  feat_433\n",
       "128  0.495666 -0.495666  feat_128\n",
       "28   0.494982  0.494982  feat_028\n",
       "241  0.357215 -0.357215  feat_241\n",
       "168  0.342809 -0.342809  feat_168\n",
       "64   0.316045  0.316045  feat_064\n",
       "323  0.304741 -0.304741  feat_323\n",
       "338  0.298461  0.298461  feat_338\n",
       "308  0.287674  0.287674  feat_308\n",
       "137  0.284543  0.284543  feat_137\n",
       "286  0.283824 -0.283824  feat_286\n",
       "481  0.283725 -0.283725  feat_481\n",
       "83   0.283322  0.283322  feat_083\n",
       "414  0.281254 -0.281254  feat_414\n",
       "161  0.278597 -0.278597  feat_161\n",
       "61   0.272666  0.272666  feat_061\n",
       "277  0.266968 -0.266968  feat_277\n",
       "403  0.266486  0.266486  feat_403\n",
       "..        ...       ...       ...\n",
       "397  0.007921 -0.007921  feat_397\n",
       "489  0.007860 -0.007860  feat_489\n",
       "210  0.007744 -0.007744  feat_210\n",
       "102  0.007735  0.007735  feat_102\n",
       "58   0.007613 -0.007613  feat_058\n",
       "145  0.007514 -0.007514  feat_145\n",
       "329  0.007247 -0.007247  feat_329\n",
       "52   0.007242 -0.007242  feat_052\n",
       "224  0.006520  0.006520  feat_224\n",
       "116  0.005391 -0.005391  feat_116\n",
       "107  0.005058 -0.005058  feat_107\n",
       "120  0.005056  0.005056  feat_120\n",
       "470  0.004692 -0.004692  feat_470\n",
       "370  0.004571  0.004571  feat_370\n",
       "257  0.004164  0.004164  feat_257\n",
       "20   0.003882 -0.003882  feat_020\n",
       "155  0.003013  0.003013  feat_155\n",
       "391  0.002816  0.002816  feat_391\n",
       "150  0.002672 -0.002672  feat_150\n",
       "379  0.002162 -0.002162  feat_379\n",
       "250  0.002008  0.002008  feat_250\n",
       "172  0.001411  0.001411  feat_172\n",
       "415  0.001396 -0.001396  feat_415\n",
       "216  0.001085 -0.001085  feat_216\n",
       "90   0.001081 -0.001081  feat_090\n",
       "290  0.000868 -0.000868  feat_290\n",
       "36   0.000606  0.000606  feat_036\n",
       "466  0.000417 -0.000417  feat_466\n",
       "98   0.000362  0.000362  feat_098\n",
       "332  0.000079 -0.000079  feat_332\n",
       "\n",
       "[500 rows x 3 columns]"
      ]
     },
     "execution_count": 26,
     "metadata": {},
     "output_type": "execute_result"
    }
   ],
   "source": [
    "log_reg_coef_df[log_reg_coef_df['coef'] != 0]"
   ]
  },
  {
   "cell_type": "code",
   "execution_count": null,
   "metadata": {
    "collapsed": true
   },
   "outputs": [],
   "source": []
  }
 ],
 "metadata": {
  "anaconda-cloud": {},
  "kernelspec": {
   "display_name": "Python [default]",
   "language": "python",
   "name": "python2"
  },
  "language_info": {
   "codemirror_mode": {
    "name": "ipython",
    "version": 2
   },
   "file_extension": ".py",
   "mimetype": "text/x-python",
   "name": "python",
   "nbconvert_exporter": "python",
   "pygments_lexer": "ipython2",
   "version": "2.7.12"
  }
 },
 "nbformat": 4,
 "nbformat_minor": 1
}
