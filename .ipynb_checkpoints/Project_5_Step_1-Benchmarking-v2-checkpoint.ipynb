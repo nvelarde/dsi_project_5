{
 "cells": [
  {
   "cell_type": "code",
   "execution_count": 37,
   "metadata": {
    "collapsed": false
   },
   "outputs": [],
   "source": [
    "from lib.project_5 import general_process, load_data_from_database, make_data_dict, general_model, general_transformer\n",
    "from sklearn.preprocessing import StandardScaler\n",
    "from sklearn.feature_selection import SelectKBest, f_classif\n",
    "import pandas as pd\n",
    "from sklearn.linear_model import LogisticRegression\n",
    "from sklearn.model_selection import GridSearchCV, cross_val_score"
   ]
  },
  {
   "cell_type": "markdown",
   "metadata": {},
   "source": [
    "# Step 1 - Benchmarking"
   ]
  },
  {
   "cell_type": "markdown",
   "metadata": {},
   "source": [
    "\n",
    "**NOTE: EACH OF THESE SHOULD BE WRITTEN SOLELY WITH REGARD TO STEP 1 - BENCHMARKING**\n",
    "\n",
    "### Domain and Data\n",
    "\n",
    "**TODO:** Write a simple statement about the domain of your problem and the dataset upon which you will be working. \n",
    "\n",
    "### Problem Statement\n",
    "\n",
    "**TODO:** Write a simple problem statement with regard to benchmarking your work only.\n",
    "\n",
    "### Solution Statement\n",
    "\n",
    "**TODO:** Write a simple solution statement with regard to benchmarking your work only.\n",
    "\n",
    "### Metric\n",
    "\n",
    "**TODO**: Write a statement about the metric you will be using. This section is global as it will be the metric you will use throughout this project. Provide a brief justification for choosing this metric.\n",
    "\n",
    "### Benchmark\n",
    "\n",
    "**TODO**: Write a statement explaining that this is the process by which you identify a benchmark for your project."
   ]
  },
  {
   "cell_type": "markdown",
   "metadata": {},
   "source": [
    "## Implementation\n",
    "\n",
    "Implement the following code pipeline using the functions you write in `lib/project_5.py`."
   ]
  },
  {
   "cell_type": "markdown",
   "metadata": {},
   "source": [
    "<img src=\"assets/benchmarking.png\" width=\"600px\">"
   ]
  },
  {
   "cell_type": "code",
   "execution_count": 2,
   "metadata": {
    "collapsed": false
   },
   "outputs": [],
   "source": [
    "madelon_df = load_data_from_database()"
   ]
  },
  {
   "cell_type": "code",
   "execution_count": 3,
   "metadata": {
    "collapsed": false
   },
   "outputs": [
    {
     "data": {
      "text/html": [
       "<div>\n",
       "<table border=\"1\" class=\"dataframe\">\n",
       "  <thead>\n",
       "    <tr style=\"text-align: right;\">\n",
       "      <th></th>\n",
       "      <th>index</th>\n",
       "      <th>feat_000</th>\n",
       "      <th>feat_001</th>\n",
       "      <th>feat_002</th>\n",
       "      <th>feat_003</th>\n",
       "      <th>feat_004</th>\n",
       "      <th>feat_005</th>\n",
       "      <th>feat_006</th>\n",
       "      <th>feat_007</th>\n",
       "      <th>feat_008</th>\n",
       "      <th>...</th>\n",
       "      <th>feat_491</th>\n",
       "      <th>feat_492</th>\n",
       "      <th>feat_493</th>\n",
       "      <th>feat_494</th>\n",
       "      <th>feat_495</th>\n",
       "      <th>feat_496</th>\n",
       "      <th>feat_497</th>\n",
       "      <th>feat_498</th>\n",
       "      <th>feat_499</th>\n",
       "      <th>label</th>\n",
       "    </tr>\n",
       "  </thead>\n",
       "  <tbody>\n",
       "    <tr>\n",
       "      <th>0</th>\n",
       "      <td>0</td>\n",
       "      <td>485</td>\n",
       "      <td>477</td>\n",
       "      <td>537</td>\n",
       "      <td>479</td>\n",
       "      <td>452</td>\n",
       "      <td>471</td>\n",
       "      <td>491</td>\n",
       "      <td>476</td>\n",
       "      <td>475</td>\n",
       "      <td>...</td>\n",
       "      <td>481</td>\n",
       "      <td>477</td>\n",
       "      <td>485</td>\n",
       "      <td>511</td>\n",
       "      <td>485</td>\n",
       "      <td>481</td>\n",
       "      <td>479</td>\n",
       "      <td>475</td>\n",
       "      <td>496</td>\n",
       "      <td>-1</td>\n",
       "    </tr>\n",
       "    <tr>\n",
       "      <th>1</th>\n",
       "      <td>1</td>\n",
       "      <td>483</td>\n",
       "      <td>458</td>\n",
       "      <td>460</td>\n",
       "      <td>487</td>\n",
       "      <td>587</td>\n",
       "      <td>475</td>\n",
       "      <td>526</td>\n",
       "      <td>479</td>\n",
       "      <td>485</td>\n",
       "      <td>...</td>\n",
       "      <td>478</td>\n",
       "      <td>487</td>\n",
       "      <td>338</td>\n",
       "      <td>513</td>\n",
       "      <td>486</td>\n",
       "      <td>483</td>\n",
       "      <td>492</td>\n",
       "      <td>510</td>\n",
       "      <td>517</td>\n",
       "      <td>-1</td>\n",
       "    </tr>\n",
       "    <tr>\n",
       "      <th>2</th>\n",
       "      <td>2</td>\n",
       "      <td>487</td>\n",
       "      <td>542</td>\n",
       "      <td>499</td>\n",
       "      <td>468</td>\n",
       "      <td>448</td>\n",
       "      <td>471</td>\n",
       "      <td>442</td>\n",
       "      <td>478</td>\n",
       "      <td>480</td>\n",
       "      <td>...</td>\n",
       "      <td>481</td>\n",
       "      <td>492</td>\n",
       "      <td>650</td>\n",
       "      <td>506</td>\n",
       "      <td>501</td>\n",
       "      <td>480</td>\n",
       "      <td>489</td>\n",
       "      <td>499</td>\n",
       "      <td>498</td>\n",
       "      <td>-1</td>\n",
       "    </tr>\n",
       "    <tr>\n",
       "      <th>3</th>\n",
       "      <td>3</td>\n",
       "      <td>480</td>\n",
       "      <td>491</td>\n",
       "      <td>510</td>\n",
       "      <td>485</td>\n",
       "      <td>495</td>\n",
       "      <td>472</td>\n",
       "      <td>417</td>\n",
       "      <td>474</td>\n",
       "      <td>502</td>\n",
       "      <td>...</td>\n",
       "      <td>480</td>\n",
       "      <td>474</td>\n",
       "      <td>572</td>\n",
       "      <td>454</td>\n",
       "      <td>469</td>\n",
       "      <td>475</td>\n",
       "      <td>482</td>\n",
       "      <td>494</td>\n",
       "      <td>461</td>\n",
       "      <td>1</td>\n",
       "    </tr>\n",
       "    <tr>\n",
       "      <th>4</th>\n",
       "      <td>4</td>\n",
       "      <td>484</td>\n",
       "      <td>502</td>\n",
       "      <td>528</td>\n",
       "      <td>489</td>\n",
       "      <td>466</td>\n",
       "      <td>481</td>\n",
       "      <td>402</td>\n",
       "      <td>478</td>\n",
       "      <td>487</td>\n",
       "      <td>...</td>\n",
       "      <td>479</td>\n",
       "      <td>452</td>\n",
       "      <td>435</td>\n",
       "      <td>486</td>\n",
       "      <td>508</td>\n",
       "      <td>481</td>\n",
       "      <td>504</td>\n",
       "      <td>495</td>\n",
       "      <td>511</td>\n",
       "      <td>1</td>\n",
       "    </tr>\n",
       "  </tbody>\n",
       "</table>\n",
       "<p>5 rows × 502 columns</p>\n",
       "</div>"
      ],
      "text/plain": [
       "   index  feat_000  feat_001  feat_002  feat_003  feat_004  feat_005  \\\n",
       "0      0       485       477       537       479       452       471   \n",
       "1      1       483       458       460       487       587       475   \n",
       "2      2       487       542       499       468       448       471   \n",
       "3      3       480       491       510       485       495       472   \n",
       "4      4       484       502       528       489       466       481   \n",
       "\n",
       "   feat_006  feat_007  feat_008  ...    feat_491  feat_492  feat_493  \\\n",
       "0       491       476       475  ...         481       477       485   \n",
       "1       526       479       485  ...         478       487       338   \n",
       "2       442       478       480  ...         481       492       650   \n",
       "3       417       474       502  ...         480       474       572   \n",
       "4       402       478       487  ...         479       452       435   \n",
       "\n",
       "   feat_494  feat_495  feat_496  feat_497  feat_498  feat_499  label  \n",
       "0       511       485       481       479       475       496     -1  \n",
       "1       513       486       483       492       510       517     -1  \n",
       "2       506       501       480       489       499       498     -1  \n",
       "3       454       469       475       482       494       461      1  \n",
       "4       486       508       481       504       495       511      1  \n",
       "\n",
       "[5 rows x 502 columns]"
      ]
     },
     "execution_count": 3,
     "metadata": {},
     "output_type": "execute_result"
    }
   ],
   "source": [
    "madelon_df.head()"
   ]
  },
  {
   "cell_type": "code",
   "execution_count": 4,
   "metadata": {
    "collapsed": false
   },
   "outputs": [
    {
     "name": "stdout",
     "output_type": "stream",
     "text": [
      "<class 'pandas.core.frame.DataFrame'>\n",
      "RangeIndex: 2000 entries, 0 to 1999\n",
      "Columns: 502 entries, index to label\n",
      "dtypes: int64(502)\n",
      "memory usage: 7.7 MB\n"
     ]
    }
   ],
   "source": [
    "madelon_df.info()"
   ]
  },
  {
   "cell_type": "code",
   "execution_count": 5,
   "metadata": {
    "collapsed": false
   },
   "outputs": [
    {
     "data": {
      "text/plain": [
       "(2000, 502)"
      ]
     },
     "execution_count": 5,
     "metadata": {},
     "output_type": "execute_result"
    }
   ],
   "source": [
    "madelon_df.shape"
   ]
  },
  {
   "cell_type": "markdown",
   "metadata": {},
   "source": [
    "**Creating our target vector**"
   ]
  },
  {
   "cell_type": "code",
   "execution_count": 6,
   "metadata": {
    "collapsed": false
   },
   "outputs": [],
   "source": [
    "y = madelon_df['label']"
   ]
  },
  {
   "cell_type": "code",
   "execution_count": 7,
   "metadata": {
    "collapsed": false
   },
   "outputs": [
    {
     "data": {
      "text/plain": [
       "array([-1,  1])"
      ]
     },
     "execution_count": 7,
     "metadata": {},
     "output_type": "execute_result"
    }
   ],
   "source": [
    "# target vector is comprised of '1's and '-1's\n",
    "\n",
    "y.unique()"
   ]
  },
  {
   "cell_type": "code",
   "execution_count": 8,
   "metadata": {
    "collapsed": false
   },
   "outputs": [
    {
     "data": {
      "text/plain": [
       " 1    1000\n",
       "-1    1000\n",
       "Name: label, dtype: int64"
      ]
     },
     "execution_count": 8,
     "metadata": {},
     "output_type": "execute_result"
    }
   ],
   "source": [
    "# the target vector is evenly distributed\n",
    "\n",
    "y.value_counts()"
   ]
  },
  {
   "cell_type": "markdown",
   "metadata": {},
   "source": [
    "**Creating the feature matrix**"
   ]
  },
  {
   "cell_type": "code",
   "execution_count": 9,
   "metadata": {
    "collapsed": false
   },
   "outputs": [
    {
     "data": {
      "text/html": [
       "<div>\n",
       "<table border=\"1\" class=\"dataframe\">\n",
       "  <thead>\n",
       "    <tr style=\"text-align: right;\">\n",
       "      <th></th>\n",
       "      <th>feat_000</th>\n",
       "      <th>feat_001</th>\n",
       "      <th>feat_002</th>\n",
       "      <th>feat_003</th>\n",
       "      <th>feat_004</th>\n",
       "      <th>feat_005</th>\n",
       "      <th>feat_006</th>\n",
       "      <th>feat_007</th>\n",
       "      <th>feat_008</th>\n",
       "      <th>feat_009</th>\n",
       "      <th>...</th>\n",
       "      <th>feat_490</th>\n",
       "      <th>feat_491</th>\n",
       "      <th>feat_492</th>\n",
       "      <th>feat_493</th>\n",
       "      <th>feat_494</th>\n",
       "      <th>feat_495</th>\n",
       "      <th>feat_496</th>\n",
       "      <th>feat_497</th>\n",
       "      <th>feat_498</th>\n",
       "      <th>feat_499</th>\n",
       "    </tr>\n",
       "  </thead>\n",
       "  <tbody>\n",
       "    <tr>\n",
       "      <th>0</th>\n",
       "      <td>485</td>\n",
       "      <td>477</td>\n",
       "      <td>537</td>\n",
       "      <td>479</td>\n",
       "      <td>452</td>\n",
       "      <td>471</td>\n",
       "      <td>491</td>\n",
       "      <td>476</td>\n",
       "      <td>475</td>\n",
       "      <td>473</td>\n",
       "      <td>...</td>\n",
       "      <td>477</td>\n",
       "      <td>481</td>\n",
       "      <td>477</td>\n",
       "      <td>485</td>\n",
       "      <td>511</td>\n",
       "      <td>485</td>\n",
       "      <td>481</td>\n",
       "      <td>479</td>\n",
       "      <td>475</td>\n",
       "      <td>496</td>\n",
       "    </tr>\n",
       "  </tbody>\n",
       "</table>\n",
       "<p>1 rows × 500 columns</p>\n",
       "</div>"
      ],
      "text/plain": [
       "   feat_000  feat_001  feat_002  feat_003  feat_004  feat_005  feat_006  \\\n",
       "0       485       477       537       479       452       471       491   \n",
       "\n",
       "   feat_007  feat_008  feat_009    ...     feat_490  feat_491  feat_492  \\\n",
       "0       476       475       473    ...          477       481       477   \n",
       "\n",
       "   feat_493  feat_494  feat_495  feat_496  feat_497  feat_498  feat_499  \n",
       "0       485       511       485       481       479       475       496  \n",
       "\n",
       "[1 rows x 500 columns]"
      ]
     },
     "execution_count": 9,
     "metadata": {},
     "output_type": "execute_result"
    }
   ],
   "source": [
    "X = madelon_df.drop(['label', 'index'], axis=1)\n",
    "X.head(1)"
   ]
  },
  {
   "cell_type": "markdown",
   "metadata": {},
   "source": [
    "**Confirming that our target vector and feature matrix have the appropriate shapes for sklearn**"
   ]
  },
  {
   "cell_type": "code",
   "execution_count": 10,
   "metadata": {
    "collapsed": false
   },
   "outputs": [
    {
     "data": {
      "text/plain": [
       "((2000, 500), (2000,))"
      ]
     },
     "execution_count": 10,
     "metadata": {},
     "output_type": "execute_result"
    }
   ],
   "source": [
    "X.shape, y.shape"
   ]
  },
  {
   "cell_type": "markdown",
   "metadata": {},
   "source": [
    "**Making data dictionary**"
   ]
  },
  {
   "cell_type": "code",
   "execution_count": 11,
   "metadata": {
    "collapsed": false
   },
   "outputs": [],
   "source": [
    "madelon_data_dict = make_data_dict(X, y, 0.25, 82)"
   ]
  },
  {
   "cell_type": "markdown",
   "metadata": {},
   "source": [
    "**Confirming the Train-Test-Split**"
   ]
  },
  {
   "cell_type": "code",
   "execution_count": 12,
   "metadata": {
    "collapsed": false
   },
   "outputs": [
    {
     "data": {
      "text/plain": [
       "(2000, 500)"
      ]
     },
     "execution_count": 12,
     "metadata": {},
     "output_type": "execute_result"
    }
   ],
   "source": [
    "pd.DataFrame(madelon_data_dict['X']).shape"
   ]
  },
  {
   "cell_type": "code",
   "execution_count": 13,
   "metadata": {
    "collapsed": false
   },
   "outputs": [
    {
     "data": {
      "text/plain": [
       "(500, 500)"
      ]
     },
     "execution_count": 13,
     "metadata": {},
     "output_type": "execute_result"
    }
   ],
   "source": [
    "pd.DataFrame(madelon_data_dict['X_test']).shape"
   ]
  },
  {
   "cell_type": "code",
   "execution_count": 14,
   "metadata": {
    "collapsed": false
   },
   "outputs": [
    {
     "data": {
      "text/plain": [
       "(1500, 500)"
      ]
     },
     "execution_count": 14,
     "metadata": {},
     "output_type": "execute_result"
    }
   ],
   "source": [
    "pd.DataFrame(madelon_data_dict['X_train']).shape"
   ]
  },
  {
   "cell_type": "markdown",
   "metadata": {
    "collapsed": true
   },
   "source": [
    "**Standard Scaler**"
   ]
  },
  {
   "cell_type": "code",
   "execution_count": 15,
   "metadata": {
    "collapsed": true
   },
   "outputs": [],
   "source": [
    "madelon_scaled_dict = general_process(general_transformer(StandardScaler(), madelon_data_dict), madelon_data_dict)"
   ]
  },
  {
   "cell_type": "code",
   "execution_count": 16,
   "metadata": {
    "collapsed": false
   },
   "outputs": [],
   "source": [
    "# madelon_scaled_dict = general_transformer(StandardScaler(), madelon_data_dict)"
   ]
  },
  {
   "cell_type": "code",
   "execution_count": 17,
   "metadata": {
    "collapsed": false
   },
   "outputs": [],
   "source": [
    "# general_process(general_transformer, madelon_scaled_dict)"
   ]
  },
  {
   "cell_type": "code",
   "execution_count": 18,
   "metadata": {
    "collapsed": false
   },
   "outputs": [
    {
     "data": {
      "text/plain": [
       "{'X':       feat_000  feat_001  feat_002  feat_003  feat_004  feat_005  feat_006  \\\n",
       " 0          485       477       537       479       452       471       491   \n",
       " 1          483       458       460       487       587       475       526   \n",
       " 2          487       542       499       468       448       471       442   \n",
       " 3          480       491       510       485       495       472       417   \n",
       " 4          484       502       528       489       466       481       402   \n",
       " 5          481       496       451       480       516       484       484   \n",
       " 6          484       533       498       466       577       482       471   \n",
       " 7          474       468       598       490       530       482       448   \n",
       " 8          484       498       558       489       508       478       471   \n",
       " 9          496       448       570       476       477       481       595   \n",
       " 10         478       446       457       475       468       475       482   \n",
       " 11         486       479       528       483       530       484       479   \n",
       " 12         466       486       540       492       500       475       491   \n",
       " 13         477       510       536       497       481       488       556   \n",
       " 14         490       454       491       476       517       489       459   \n",
       " 15         485       472       536       485       497       466       530   \n",
       " 16         483       506       450       490       519       484       455   \n",
       " 17         485       481       428       478       531       469       468   \n",
       " 18         475       454       539       467       510       480       498   \n",
       " 19         472       485       461       483       533       484       569   \n",
       " 20         491       487       520       463       501       486       487   \n",
       " 21         470       464       494       512       559       484       398   \n",
       " 22         481       480       473       483       504       477       493   \n",
       " 23         482       487       543       479       498       475       436   \n",
       " 24         488       425       465       483       571       482       436   \n",
       " 25         489       510       492       468       510       486       481   \n",
       " 26         469       448       478       485       492       464       513   \n",
       " 27         480       461       496       476       448       472       429   \n",
       " 28         475       485       541       478       542       486       509   \n",
       " 29         484       478       566       483       483       484       502   \n",
       " ...        ...       ...       ...       ...       ...       ...       ...   \n",
       " 1970       486       472       544       490       486       482       431   \n",
       " 1971       489       503       532       492       581       499       458   \n",
       " 1972       484       473       534       463       564       472       467   \n",
       " 1973       470       499       496       472       578       465       470   \n",
       " 1974       488       492       492       482       522       478       480   \n",
       " 1975       489       527       484       461       486       485       467   \n",
       " 1976       480       534       473       492       490       487       518   \n",
       " 1977       486       521       480       480       461       483       445   \n",
       " 1978       481       515       484       502       519       484       404   \n",
       " 1979       471       463       430       490       473       486       520   \n",
       " 1980       478       451       595       492       555       475       461   \n",
       " 1981       486       472       544       486       465       482       445   \n",
       " 1982       475       507       550       476       493       483       444   \n",
       " 1983       478       513       584       488       509       479       504   \n",
       " 1984       486       524       475       481       530       482       522   \n",
       " 1985       483       483       523       489       422       485       466   \n",
       " 1986       480       491       519       490       513       469       460   \n",
       " 1987       471       502       526       487       504       482       502   \n",
       " 1988       482       447       463       485       526       489       429   \n",
       " 1989       486       473       525       486       443       477       458   \n",
       " 1990       475       403       544       488       452       481       541   \n",
       " 1991       482       541       590       487       461       483       389   \n",
       " 1992       495       456       538       496       467       495       443   \n",
       " 1993       477       501       518       496       479       472       424   \n",
       " 1994       483       466       588       491       381       476       495   \n",
       " 1995       490       505       503       474       463       461       519   \n",
       " 1996       480       475       476       480       495       482       515   \n",
       " 1997       480       517       631       470       485       474       535   \n",
       " 1998       484       481       505       478       542       477       518   \n",
       " 1999       474       493       469       486       521       475       494   \n",
       " \n",
       "       feat_007  feat_008  feat_009    ...     feat_490  feat_491  feat_492  \\\n",
       " 0          476       475       473    ...          477       481       477   \n",
       " 1          479       485       469    ...          463       478       487   \n",
       " 2          478       480       477    ...          487       481       492   \n",
       " 3          474       502       476    ...          491       480       474   \n",
       " 4          478       487       468    ...          488       479       452   \n",
       " 5          476       500       482    ...          478       481       477   \n",
       " 6          477       476       468    ...          472       483       490   \n",
       " 7          476       497       489    ...          469       479       511   \n",
       " 8          478       488       470    ...          473       478       478   \n",
       " 9          477       465       490    ...          485       476       447   \n",
       " 10         479       478       473    ...          515       479       506   \n",
       " 11         477       462       487    ...          492       476       498   \n",
       " 12         474       505       475    ...          464       481       459   \n",
       " 13         478       486       475    ...          480       481       490   \n",
       " 14         477       508       482    ...          480       484       485   \n",
       " 15         478       475       475    ...          470       481       501   \n",
       " 16         476       473       468    ...          509       470       502   \n",
       " 17         477       473       471    ...          477       479       503   \n",
       " 18         477       505       473    ...          479       479       470   \n",
       " 19         480       496       471    ...          505       479       449   \n",
       " 20         476       486       471    ...          504       480       499   \n",
       " 21         478       486       485    ...          508       483       484   \n",
       " 22         477       494       482    ...          468       480       496   \n",
       " 23         476       476       479    ...          496       474       466   \n",
       " 24         478       478       486    ...          473       480       506   \n",
       " 25         477       482       477    ...          504       478       494   \n",
       " 26         477       515       477    ...          491       478       541   \n",
       " 27         477       492       486    ...          448       473       487   \n",
       " 28         478       492       480    ...          536       478       513   \n",
       " 29         476       486       475    ...          517       482       465   \n",
       " ...        ...       ...       ...    ...          ...       ...       ...   \n",
       " 1970       475       509       474    ...          506       477       476   \n",
       " 1971       478       493       485    ...          444       479       494   \n",
       " 1972       475       479       478    ...          531       487       514   \n",
       " 1973       477       483       482    ...          481       479       473   \n",
       " 1974       476       468       471    ...          492       477       488   \n",
       " 1975       477       503       484    ...          490       479       480   \n",
       " 1976       475       487       476    ...          490       484       465   \n",
       " 1977       479       464       474    ...          518       480       488   \n",
       " 1978       478       479       484    ...          469       472       526   \n",
       " 1979       476       467       474    ...          535       473       534   \n",
       " 1980       475       499       487    ...          510       483       464   \n",
       " 1981       475       490       480    ...          473       483       479   \n",
       " 1982       477       489       481    ...          497       480       511   \n",
       " 1983       472       480       482    ...          489       483       482   \n",
       " 1984       477       478       478    ...          494       475       468   \n",
       " 1985       476       489       487    ...          485       475       445   \n",
       " 1986       475       467       475    ...          515       477       509   \n",
       " 1987       477       493       487    ...          486       497       506   \n",
       " 1988       477       498       485    ...          497       472       494   \n",
       " 1989       475       486       481    ...          505       482       536   \n",
       " 1990       476       482       475    ...          481       473       488   \n",
       " 1991       477       499       490    ...          466       481       504   \n",
       " 1992       475       461       494    ...          488       479       487   \n",
       " 1993       476       501       486    ...          450       476       435   \n",
       " 1994       476       470       479    ...          518       474       453   \n",
       " 1995       476       518       467    ...          467       479       449   \n",
       " 1996       479       480       484    ...          464       474       473   \n",
       " 1997       476       493       466    ...          501       483       479   \n",
       " 1998       477       510       472    ...          487       483       526   \n",
       " 1999       479       481       473    ...          467       476       508   \n",
       " \n",
       "       feat_493  feat_494  feat_495  feat_496  feat_497  feat_498  feat_499  \n",
       " 0          485       511       485       481       479       475       496  \n",
       " 1          338       513       486       483       492       510       517  \n",
       " 2          650       506       501       480       489       499       498  \n",
       " 3          572       454       469       475       482       494       461  \n",
       " 4          435       486       508       481       504       495       511  \n",
       " 5          435       491       564       482       463       457       500  \n",
       " 6          648       484       475       479       475       462       484  \n",
       " 7          351       462       533       480       501       529       489  \n",
       " 8          633       453       556       458       473       531       440  \n",
       " 9          576       511       508       478       486       582       496  \n",
       " 10         491       512       476       471       501       550       517  \n",
       " 11         599       459       452       475       496       505       485  \n",
       " 12         696       470       503       473       493       506       522  \n",
       " 13         649       486       520       485       480       500       485  \n",
       " 14         633       562       482       474       500       535       474  \n",
       " 15         732       509       548       479       500       529       539  \n",
       " 16         207       547       479       476       461       520       504  \n",
       " 17         549       506       574       483       496       521       495  \n",
       " 18         627       509       451       476       479       540       506  \n",
       " 19         363       495       536       484       494       503       447  \n",
       " 20         285       486       480       479       493       578       484  \n",
       " 21         708       545       462       474       503       454       501  \n",
       " 22         453       451       462       484       492       520       511  \n",
       " 23         366       443       489       480       515       520       500  \n",
       " 24         596       463       486       478       510       472       508  \n",
       " 25         604       553       518       473       454       455       528  \n",
       " 26         649       435       513       481       463       506       569  \n",
       " 27         314       464       499       480       463       480       464  \n",
       " 28         561       504       509       482       485       481       487  \n",
       " 29         557       527       525       478       485       467       473  \n",
       " ...        ...       ...       ...       ...       ...       ...       ...  \n",
       " 1970       554       508       535       476       476       515       481  \n",
       " 1971       595       477       552       477       474       555       538  \n",
       " 1972       524       539       525       475       493       507       527  \n",
       " 1973       564       480       474       479       493       550       476  \n",
       " 1974       516       554       521       478       459       428       449  \n",
       " 1975       498       510       498       481       474       512       477  \n",
       " 1976       496       529       510       486       497       457       478  \n",
       " 1977       695       407       483       478       460       533       493  \n",
       " 1978       713       517       410       487       490       467       475  \n",
       " 1979       789       447       517       474       474       545       506  \n",
       " 1980       410       548       472       479       479       524       527  \n",
       " 1981       187       587       512       478       497       502       527  \n",
       " 1982       479       480       534       485       481       505       583  \n",
       " 1983       458       485       474       487       488       465       495  \n",
       " 1984       433       456       548       484       463       523       503  \n",
       " 1985       600       488       515       479       470       500       451  \n",
       " 1986       583       542       523       472       472       562       457  \n",
       " 1987       573       440       522       490       469       520       506  \n",
       " 1988       487       529       520       475       485       552       459  \n",
       " 1989       639       522       558       474       477       579       504  \n",
       " 1990       438       450       500       461       485       525       510  \n",
       " 1991       304       455       539       480       506       552       478  \n",
       " 1992       488       451       515       485       463       504       507  \n",
       " 1993       736       539       546       482       514       557       540  \n",
       " 1994       715       447       485       468       491       569       452  \n",
       " 1995       588       499       506       475       463       507       501  \n",
       " 1996       424       454       570       476       493       465       485  \n",
       " 1997       687       488       488       483       500       523       481  \n",
       " 1998       750       486       529       484       473       527       485  \n",
       " 1999       449       463       533       481       489       516       516  \n",
       " \n",
       " [2000 rows x 500 columns],\n",
       " 'X_test': array([[-1.35028888, -0.45361972, -0.83425415, ..., -0.66200238,\n",
       "         -1.09247646, -0.65678969],\n",
       "        [-0.10692895,  0.27798923, -0.93710458, ...,  0.52278935,\n",
       "         -1.09247646,  1.61615002],\n",
       "        [ 0.51475101, -0.38710982,  0.63136453, ...,  1.26328418,\n",
       "          0.57351208,  1.88582084],\n",
       "        ..., \n",
       "        [-0.88402891,  1.54167742,  1.71129407, ..., -0.143656  ,\n",
       "          1.70208496,  0.11369835],\n",
       "        [ 0.35933102, -1.5842881 ,  1.4798806 , ..., -0.81010134,\n",
       "          0.41228738, -0.23302127],\n",
       "        [ 0.35933102,  1.17587295,  0.65707713, ...,  0.22659142,\n",
       "         -0.34009454,  1.34647921]]),\n",
       " 'X_train': array([[ 1.13643097,  0.61053876, -0.21715155, ..., -0.36580445,\n",
       "         -1.76424604,  0.57599117],\n",
       "        [ 0.20391103, -0.58663953,  1.96842015, ...,  0.59683883,\n",
       "          1.64834339, -1.46580213],\n",
       "        [ 0.04849104,  0.31124418,  1.09419147, ..., -0.88415083,\n",
       "          1.27215243,  0.57599117],\n",
       "        ..., \n",
       "        [-1.19486889,  0.31124418, -1.09138023, ...,  0.44873987,\n",
       "          0.2241919 ,  0.99975959],\n",
       "        [ 0.670171  ,  0.77681352, -1.06566762, ...,  0.07849245,\n",
       "          1.59460183, -0.38711887],\n",
       "        [-0.88402891,  0.64379371, -0.9885298 , ..., -0.5879529 ,\n",
       "         -0.58193159,  0.11369835]]),\n",
       " 'processes': [{...}],\n",
       " 'transformer': StandardScaler(copy=True, with_mean=True, with_std=True),\n",
       " 'y': 0      -1\n",
       " 1      -1\n",
       " 2      -1\n",
       " 3       1\n",
       " 4       1\n",
       " 5       1\n",
       " 6       1\n",
       " 7      -1\n",
       " 8       1\n",
       " 9      -1\n",
       " 10     -1\n",
       " 11     -1\n",
       " 12      1\n",
       " 13     -1\n",
       " 14     -1\n",
       " 15     -1\n",
       " 16     -1\n",
       " 17      1\n",
       " 18     -1\n",
       " 19      1\n",
       " 20     -1\n",
       " 21      1\n",
       " 22     -1\n",
       " 23      1\n",
       " 24     -1\n",
       " 25     -1\n",
       " 26      1\n",
       " 27     -1\n",
       " 28      1\n",
       " 29     -1\n",
       "        ..\n",
       " 1970    1\n",
       " 1971   -1\n",
       " 1972    1\n",
       " 1973    1\n",
       " 1974   -1\n",
       " 1975    1\n",
       " 1976    1\n",
       " 1977    1\n",
       " 1978   -1\n",
       " 1979   -1\n",
       " 1980    1\n",
       " 1981    1\n",
       " 1982   -1\n",
       " 1983   -1\n",
       " 1984    1\n",
       " 1985    1\n",
       " 1986   -1\n",
       " 1987    1\n",
       " 1988   -1\n",
       " 1989    1\n",
       " 1990   -1\n",
       " 1991   -1\n",
       " 1992   -1\n",
       " 1993   -1\n",
       " 1994    1\n",
       " 1995    1\n",
       " 1996   -1\n",
       " 1997   -1\n",
       " 1998    1\n",
       " 1999    1\n",
       " Name: label, dtype: int64,\n",
       " 'y_test': 636    -1\n",
       " 1422   -1\n",
       " 15     -1\n",
       " 525    -1\n",
       " 569    -1\n",
       " 1888   -1\n",
       " 528     1\n",
       " 66     -1\n",
       " 20     -1\n",
       " 1671    1\n",
       " 965     1\n",
       " 1444    1\n",
       " 966    -1\n",
       " 1782   -1\n",
       " 669    -1\n",
       " 666     1\n",
       " 869    -1\n",
       " 1049    1\n",
       " 704    -1\n",
       " 1948    1\n",
       " 1083    1\n",
       " 36     -1\n",
       " 959     1\n",
       " 1524   -1\n",
       " 1364    1\n",
       " 740     1\n",
       " 1283    1\n",
       " 1312    1\n",
       " 897     1\n",
       " 1745    1\n",
       "        ..\n",
       " 98     -1\n",
       " 651     1\n",
       " 327     1\n",
       " 1666    1\n",
       " 1905    1\n",
       " 984     1\n",
       " 1704   -1\n",
       " 1220   -1\n",
       " 1693    1\n",
       " 679     1\n",
       " 1305   -1\n",
       " 1085   -1\n",
       " 494    -1\n",
       " 653     1\n",
       " 948     1\n",
       " 919     1\n",
       " 1681    1\n",
       " 1914   -1\n",
       " 1157   -1\n",
       " 1997   -1\n",
       " 848    -1\n",
       " 1404   -1\n",
       " 310    -1\n",
       " 1982   -1\n",
       " 385     1\n",
       " 71      1\n",
       " 931    -1\n",
       " 1872    1\n",
       " 1365    1\n",
       " 738     1\n",
       " Name: label, dtype: int64,\n",
       " 'y_train': 1229   -1\n",
       " 1994    1\n",
       " 1784   -1\n",
       " 890    -1\n",
       " 874     1\n",
       " 155     1\n",
       " 378     1\n",
       " 888     1\n",
       " 230     1\n",
       " 706     1\n",
       " 789     1\n",
       " 513     1\n",
       " 1223    1\n",
       " 608     1\n",
       " 970    -1\n",
       " 1112   -1\n",
       " 425    -1\n",
       " 321    -1\n",
       " 1246   -1\n",
       " 1377   -1\n",
       " 308     1\n",
       " 782     1\n",
       " 1998    1\n",
       " 742    -1\n",
       " 1019    1\n",
       " 1255   -1\n",
       " 559     1\n",
       " 652     1\n",
       " 1027    1\n",
       " 1399    1\n",
       "        ..\n",
       " 856    -1\n",
       " 1160    1\n",
       " 1332    1\n",
       " 1779    1\n",
       " 1950    1\n",
       " 1383   -1\n",
       " 505    -1\n",
       " 1089    1\n",
       " 1424   -1\n",
       " 932    -1\n",
       " 1861    1\n",
       " 281     1\n",
       " 1523   -1\n",
       " 451     1\n",
       " 939     1\n",
       " 113    -1\n",
       " 1372   -1\n",
       " 1821   -1\n",
       " 1633   -1\n",
       " 298     1\n",
       " 1104   -1\n",
       " 1646    1\n",
       " 1506   -1\n",
       " 1567    1\n",
       " 1373   -1\n",
       " 973     1\n",
       " 411     1\n",
       " 1999    1\n",
       " 450     1\n",
       " 131    -1\n",
       " Name: label, dtype: int64}"
      ]
     },
     "execution_count": 18,
     "metadata": {},
     "output_type": "execute_result"
    }
   ],
   "source": [
    "madelon_scaled_dict"
   ]
  },
  {
   "cell_type": "code",
   "execution_count": 19,
   "metadata": {
    "collapsed": false
   },
   "outputs": [
    {
     "data": {
      "text/html": [
       "<div>\n",
       "<table border=\"1\" class=\"dataframe\">\n",
       "  <thead>\n",
       "    <tr style=\"text-align: right;\">\n",
       "      <th></th>\n",
       "      <th>X</th>\n",
       "      <th>X_test</th>\n",
       "      <th>X_train</th>\n",
       "      <th>processes</th>\n",
       "      <th>transformer</th>\n",
       "      <th>y</th>\n",
       "      <th>y_test</th>\n",
       "      <th>y_train</th>\n",
       "    </tr>\n",
       "  </thead>\n",
       "  <tbody>\n",
       "    <tr>\n",
       "      <th>0</th>\n",
       "      <td>feat_000  feat_001  feat_002  feat_003  ...</td>\n",
       "      <td>[[-1.35028888024, -0.453619720704, -0.83425414...</td>\n",
       "      <td>[[1.13643097287, 0.610538756095, -0.2171515476...</td>\n",
       "      <td>[{u'X_test': [[ -1.35028888e+00  -4.53619721e-...</td>\n",
       "      <td>StandardScaler(copy=True, with_mean=True, with...</td>\n",
       "      <td>0      -1\n",
       "1      -1\n",
       "2      -1\n",
       "3       1\n",
       "4     ...</td>\n",
       "      <td>636    -1\n",
       "1422   -1\n",
       "15     -1\n",
       "525    -1\n",
       "569   ...</td>\n",
       "      <td>1229   -1\n",
       "1994    1\n",
       "1784   -1\n",
       "890    -1\n",
       "874   ...</td>\n",
       "    </tr>\n",
       "  </tbody>\n",
       "</table>\n",
       "</div>"
      ],
      "text/plain": [
       "                                                   X  \\\n",
       "0        feat_000  feat_001  feat_002  feat_003  ...   \n",
       "\n",
       "                                              X_test  \\\n",
       "0  [[-1.35028888024, -0.453619720704, -0.83425414...   \n",
       "\n",
       "                                             X_train  \\\n",
       "0  [[1.13643097287, 0.610538756095, -0.2171515476...   \n",
       "\n",
       "                                           processes  \\\n",
       "0  [{u'X_test': [[ -1.35028888e+00  -4.53619721e-...   \n",
       "\n",
       "                                         transformer  \\\n",
       "0  StandardScaler(copy=True, with_mean=True, with...   \n",
       "\n",
       "                                                   y  \\\n",
       "0  0      -1\n",
       "1      -1\n",
       "2      -1\n",
       "3       1\n",
       "4     ...   \n",
       "\n",
       "                                              y_test  \\\n",
       "0  636    -1\n",
       "1422   -1\n",
       "15     -1\n",
       "525    -1\n",
       "569   ...   \n",
       "\n",
       "                                             y_train  \n",
       "0  1229   -1\n",
       "1994    1\n",
       "1784   -1\n",
       "890    -1\n",
       "874   ...  "
      ]
     },
     "execution_count": 19,
     "metadata": {},
     "output_type": "execute_result"
    }
   ],
   "source": [
    "pd.DataFrame(madelon_scaled_dict['processes'])"
   ]
  },
  {
   "cell_type": "code",
   "execution_count": 20,
   "metadata": {
    "collapsed": false
   },
   "outputs": [
    {
     "data": {
      "text/plain": [
       "StandardScaler(copy=True, with_mean=True, with_std=True)"
      ]
     },
     "execution_count": 20,
     "metadata": {},
     "output_type": "execute_result"
    }
   ],
   "source": [
    "scaler = madelon_scaled_dict['transformer']\n",
    "scaler"
   ]
  },
  {
   "cell_type": "code",
   "execution_count": 21,
   "metadata": {
    "collapsed": false
   },
   "outputs": [
    {
     "data": {
      "text/plain": [
       "array([ 481.688     ,  483.64066667,  511.44533333,  483.40933333,\n",
       "        501.95666667,  479.336     ,  479.81266667,  476.52933333,\n",
       "        486.79133333,  478.574     ,  486.248     ,  490.96533333,\n",
       "        478.74133333,  482.70666667,  485.17133333,  479.906     ,\n",
       "        479.16266667,  494.94533333,  483.51066667,  477.47333333,\n",
       "        484.47666667,  494.24733333,  476.426     ,  479.38733333,\n",
       "        500.00666667,  504.08333333,  484.518     ,  482.242     ,\n",
       "        480.548     ,  491.65733333,  481.92666667,  499.77333333,\n",
       "        500.84733333,  490.66333333,  486.40866667,  489.25      ,\n",
       "        479.28866667,  480.64666667,  479.73333333,  476.12266667,\n",
       "        476.49666667,  489.59666667,  476.30466667,  487.72933333,\n",
       "        500.57466667,  480.58      ,  496.20933333,  494.418     ,\n",
       "        485.254     ,  479.01733333,  517.442     ,  504.33866667,\n",
       "        484.84933333,  479.952     ,  496.92733333,  494.98133333,\n",
       "        480.36933333,  485.288     ,  509.16133333,  477.61933333,\n",
       "        488.198     ,  481.54866667,  493.63533333,  478.7       ,\n",
       "        499.35533333,  511.04133333,  503.72133333,  490.49533333,\n",
       "        480.94933333,  476.18666667,  514.46666667,  488.558     ,\n",
       "        481.28266667,  484.40066667,  480.59266667,  501.868     ,\n",
       "        478.98      ,  483.65133333,  512.93666667,  482.49      ,\n",
       "        490.49533333,  512.02066667,  483.506     ,  482.27066667,\n",
       "        504.04733333,  488.56533333,  477.06      ,  482.908     ,\n",
       "        479.25933333,  512.758     ,  476.04066667,  507.60733333,\n",
       "        479.43333333,  492.458     ,  480.40133333,  497.918     ,\n",
       "        479.27666667,  479.462     ,  477.08333333,  480.83066667,\n",
       "        479.94266667,  480.69933333,  480.99733333,  477.88333333,\n",
       "        483.84333333,  500.27533333,  484.49933333,  490.61533333,\n",
       "        500.28      ,  480.98333333,  487.78466667,  478.106     ,\n",
       "        477.19733333,  492.512     ,  479.22866667,  478.78333333,\n",
       "        489.04066667,  482.75133333,  496.37733333,  488.598     ,\n",
       "        476.13133333,  478.90666667,  480.58066667,  482.046     ,\n",
       "        478.75266667,  504.81133333,  483.35733333,  499.204     ,\n",
       "        478.96133333,  483.46      ,  501.23466667,  486.122     ,\n",
       "        487.64      ,  477.59666667,  484.668     ,  503.26733333,\n",
       "        498.53533333,  491.36533333,  479.63466667,  483.136     ,\n",
       "        493.02266667,  508.22533333,  482.10533333,  483.38266667,\n",
       "        483.026     ,  487.06933333,  479.84266667,  497.29666667,\n",
       "        480.02733333,  497.138     ,  487.98133333,  483.86066667,\n",
       "        482.02533333,  501.61266667,  476.94      ,  486.89066667,\n",
       "        483.62333333,  477.88333333,  499.276     ,  499.76933333,\n",
       "        478.19933333,  478.56466667,  481.22266667,  479.982     ,\n",
       "        489.06266667,  487.27466667,  476.03666667,  479.13666667,\n",
       "        476.866     ,  511.44      ,  494.60333333,  510.146     ,\n",
       "        507.03266667,  477.09866667,  476.496     ,  500.18066667,\n",
       "        482.878     ,  480.432     ,  483.86666667,  505.904     ,\n",
       "        503.46866667,  514.38533333,  476.67066667,  478.524     ,\n",
       "        488.24466667,  487.26533333,  497.33866667,  492.54666667,\n",
       "        517.774     ,  478.45333333,  481.888     ,  490.59466667,\n",
       "        495.784     ,  506.382     ,  513.25933333,  484.09733333,\n",
       "        479.21733333,  483.20666667,  476.48866667,  486.16866667,\n",
       "        490.86666667,  488.426     ,  489.66266667,  507.99933333,\n",
       "        488.086     ,  476.04933333,  506.38733333,  479.11333333,\n",
       "        481.26266667,  490.58533333,  487.598     ,  492.34733333,\n",
       "        480.51533333,  488.424     ,  480.31666667,  503.218     ,\n",
       "        504.15533333,  480.63266667,  487.31933333,  485.052     ,\n",
       "        478.81666667,  498.9       ,  493.416     ,  487.928     ,\n",
       "        493.38466667,  500.48      ,  485.02933333,  477.52866667,\n",
       "        476.36333333,  493.88066667,  479.85266667,  482.27266667,\n",
       "        478.52533333,  484.126     ,  491.32266667,  496.31266667,\n",
       "        483.10666667,  478.05      ,  475.66266667,  478.06733333,\n",
       "        497.254     ,  498.396     ,  490.16      ,  479.304     ,\n",
       "        507.95066667,  510.78133333,  477.84466667,  479.138     ,\n",
       "        481.80133333,  499.14066667,  489.924     ,  494.246     ,\n",
       "        476.88733333,  508.28      ,  478.32066667,  492.21266667,\n",
       "        499.58466667,  490.97      ,  485.49866667,  485.68266667,\n",
       "        490.838     ,  478.55      ,  494.16133333,  484.146     ,\n",
       "        479.03466667,  494.184     ,  501.076     ,  489.34066667,\n",
       "        484.73266667,  492.50266667,  483.98733333,  499.51666667,\n",
       "        484.35466667,  487.02666667,  476.73866667,  484.42533333,\n",
       "        476.16933333,  495.58066667,  495.92533333,  493.09733333,\n",
       "        476.884     ,  479.466     ,  481.94666667,  476.03533333,\n",
       "        504.17733333,  491.186     ,  478.39066667,  483.91666667,\n",
       "        479.72733333,  493.268     ,  491.45133333,  503.81066667,\n",
       "        496.40866667,  476.29266667,  485.71466667,  497.82666667,\n",
       "        475.20333333,  501.00733333,  497.27533333,  496.22533333,\n",
       "        481.562     ,  489.69133333,  477.96066667,  491.558     ,\n",
       "        494.34466667,  485.75333333,  480.448     ,  480.82866667,\n",
       "        499.16333333,  476.32733333,  486.31466667,  480.12066667,\n",
       "        500.76133333,  499.51      ,  480.98      ,  487.61133333,\n",
       "        477.474     ,  481.19466667,  486.20866667,  511.552     ,\n",
       "        483.176     ,  483.36466667,  490.53866667,  480.35266667,\n",
       "        489.854     ,  480.05066667,  482.48      ,  482.35266667,\n",
       "        486.362     ,  515.292     ,  487.28333333,  479.21066667,\n",
       "        476.15466667,  488.05733333,  495.828     ,  487.788     ,\n",
       "        482.06533333,  487.51133333,  501.602     ,  501.00866667,\n",
       "        506.15466667,  493.742     ,  496.19533333,  502.842     ,\n",
       "        499.69      ,  482.78133333,  481.38666667,  490.21666667,\n",
       "        481.14333333,  503.85933333,  481.358     ,  478.43      ,\n",
       "        484.42333333,  482.27333333,  493.432     ,  484.59933333,\n",
       "        502.87666667,  476.534     ,  506.578     ,  498.5       ,\n",
       "        482.98333333,  491.082     ,  478.186     ,  486.222     ,\n",
       "        480.89266667,  494.91      ,  495.53266667,  483.72066667,\n",
       "        484.468     ,  499.636     ,  487.61266667,  490.04866667,\n",
       "        497.30266667,  487.60466667,  501.018     ,  491.53733333,\n",
       "        480.41866667,  483.44266667,  496.462     ,  481.53133333,\n",
       "        480.884     ,  479.252     ,  496.966     ,  483.96666667,\n",
       "        479.864     ,  478.14733333,  492.27666667,  477.20133333,\n",
       "        494.9       ,  484.04      ,  476.826     ,  493.16533333,\n",
       "        476.39733333,  486.92066667,  478.098     ,  484.28266667,\n",
       "        484.19466667,  482.50266667,  510.644     ,  481.24733333,\n",
       "        476.99333333,  488.90333333,  476.05466667,  487.47466667,\n",
       "        476.64266667,  477.19      ,  481.77866667,  477.90333333,\n",
       "        483.20266667,  478.12866667,  489.77666667,  490.5       ,\n",
       "        488.19866667,  484.06733333,  492.348     ,  517.50933333,\n",
       "        484.17533333,  506.98133333,  510.858     ,  496.908     ,\n",
       "        480.47266667,  478.93066667,  477.76533333,  476.05866667,\n",
       "        485.03733333,  489.122     ,  490.35866667,  484.69933333,\n",
       "        483.966     ,  476.91533333,  493.514     ,  505.48533333,\n",
       "        479.41066667,  498.504     ,  489.03266667,  499.82666667,\n",
       "        477.46733333,  516.87533333,  484.752     ,  485.00733333,\n",
       "        490.53733333,  479.76733333,  495.82533333,  502.00533333,\n",
       "        492.81333333,  477.232     ,  479.628     ,  486.18066667,\n",
       "        484.188     ,  476.402     ,  487.82333333,  477.54266667,\n",
       "        489.414     ,  481.006     ,  479.84      ,  502.994     ,\n",
       "        479.71      ,  481.85      ,  491.18933333,  485.418     ,\n",
       "        503.222     ,  483.192     ,  493.56533333,  480.532     ,\n",
       "        485.39533333,  490.75      ,  480.70266667,  511.02066667,\n",
       "        481.54      ,  481.63      ,  515.904     ,  478.73666667,\n",
       "        480.49466667,  477.628     ,  479.37733333,  485.80133333,\n",
       "        481.46933333,  487.944     ,  483.22466667,  486.79533333,\n",
       "        485.45333333,  478.378     ,  477.046     ,  497.43866667,\n",
       "        502.51533333,  482.84866667,  478.63533333,  483.432     ,\n",
       "        489.878     ,  479.63866667,  482.54266667,  478.75      ,\n",
       "        486.15133333,  495.59      ,  494.02266667,  510.23666667,\n",
       "        478.2       ,  482.94      ,  507.65666667,  490.04866667])"
      ]
     },
     "execution_count": 21,
     "metadata": {},
     "output_type": "execute_result"
    }
   ],
   "source": [
    "scaler.mean_"
   ]
  },
  {
   "cell_type": "code",
   "execution_count": 22,
   "metadata": {
    "collapsed": false
   },
   "outputs": [],
   "source": [
    "madelon_kbest_dict = general_transformer(SelectKBest(k=10), madelon_scaled_dict)"
   ]
  },
  {
   "cell_type": "code",
   "execution_count": 23,
   "metadata": {
    "collapsed": false
   },
   "outputs": [
    {
     "data": {
      "text/plain": [
       "{'X':       feat_000  feat_001  feat_002  feat_003  feat_004  feat_005  feat_006  \\\n",
       " 0          485       477       537       479       452       471       491   \n",
       " 1          483       458       460       487       587       475       526   \n",
       " 2          487       542       499       468       448       471       442   \n",
       " 3          480       491       510       485       495       472       417   \n",
       " 4          484       502       528       489       466       481       402   \n",
       " 5          481       496       451       480       516       484       484   \n",
       " 6          484       533       498       466       577       482       471   \n",
       " 7          474       468       598       490       530       482       448   \n",
       " 8          484       498       558       489       508       478       471   \n",
       " 9          496       448       570       476       477       481       595   \n",
       " 10         478       446       457       475       468       475       482   \n",
       " 11         486       479       528       483       530       484       479   \n",
       " 12         466       486       540       492       500       475       491   \n",
       " 13         477       510       536       497       481       488       556   \n",
       " 14         490       454       491       476       517       489       459   \n",
       " 15         485       472       536       485       497       466       530   \n",
       " 16         483       506       450       490       519       484       455   \n",
       " 17         485       481       428       478       531       469       468   \n",
       " 18         475       454       539       467       510       480       498   \n",
       " 19         472       485       461       483       533       484       569   \n",
       " 20         491       487       520       463       501       486       487   \n",
       " 21         470       464       494       512       559       484       398   \n",
       " 22         481       480       473       483       504       477       493   \n",
       " 23         482       487       543       479       498       475       436   \n",
       " 24         488       425       465       483       571       482       436   \n",
       " 25         489       510       492       468       510       486       481   \n",
       " 26         469       448       478       485       492       464       513   \n",
       " 27         480       461       496       476       448       472       429   \n",
       " 28         475       485       541       478       542       486       509   \n",
       " 29         484       478       566       483       483       484       502   \n",
       " ...        ...       ...       ...       ...       ...       ...       ...   \n",
       " 1970       486       472       544       490       486       482       431   \n",
       " 1971       489       503       532       492       581       499       458   \n",
       " 1972       484       473       534       463       564       472       467   \n",
       " 1973       470       499       496       472       578       465       470   \n",
       " 1974       488       492       492       482       522       478       480   \n",
       " 1975       489       527       484       461       486       485       467   \n",
       " 1976       480       534       473       492       490       487       518   \n",
       " 1977       486       521       480       480       461       483       445   \n",
       " 1978       481       515       484       502       519       484       404   \n",
       " 1979       471       463       430       490       473       486       520   \n",
       " 1980       478       451       595       492       555       475       461   \n",
       " 1981       486       472       544       486       465       482       445   \n",
       " 1982       475       507       550       476       493       483       444   \n",
       " 1983       478       513       584       488       509       479       504   \n",
       " 1984       486       524       475       481       530       482       522   \n",
       " 1985       483       483       523       489       422       485       466   \n",
       " 1986       480       491       519       490       513       469       460   \n",
       " 1987       471       502       526       487       504       482       502   \n",
       " 1988       482       447       463       485       526       489       429   \n",
       " 1989       486       473       525       486       443       477       458   \n",
       " 1990       475       403       544       488       452       481       541   \n",
       " 1991       482       541       590       487       461       483       389   \n",
       " 1992       495       456       538       496       467       495       443   \n",
       " 1993       477       501       518       496       479       472       424   \n",
       " 1994       483       466       588       491       381       476       495   \n",
       " 1995       490       505       503       474       463       461       519   \n",
       " 1996       480       475       476       480       495       482       515   \n",
       " 1997       480       517       631       470       485       474       535   \n",
       " 1998       484       481       505       478       542       477       518   \n",
       " 1999       474       493       469       486       521       475       494   \n",
       " \n",
       "       feat_007  feat_008  feat_009    ...     feat_490  feat_491  feat_492  \\\n",
       " 0          476       475       473    ...          477       481       477   \n",
       " 1          479       485       469    ...          463       478       487   \n",
       " 2          478       480       477    ...          487       481       492   \n",
       " 3          474       502       476    ...          491       480       474   \n",
       " 4          478       487       468    ...          488       479       452   \n",
       " 5          476       500       482    ...          478       481       477   \n",
       " 6          477       476       468    ...          472       483       490   \n",
       " 7          476       497       489    ...          469       479       511   \n",
       " 8          478       488       470    ...          473       478       478   \n",
       " 9          477       465       490    ...          485       476       447   \n",
       " 10         479       478       473    ...          515       479       506   \n",
       " 11         477       462       487    ...          492       476       498   \n",
       " 12         474       505       475    ...          464       481       459   \n",
       " 13         478       486       475    ...          480       481       490   \n",
       " 14         477       508       482    ...          480       484       485   \n",
       " 15         478       475       475    ...          470       481       501   \n",
       " 16         476       473       468    ...          509       470       502   \n",
       " 17         477       473       471    ...          477       479       503   \n",
       " 18         477       505       473    ...          479       479       470   \n",
       " 19         480       496       471    ...          505       479       449   \n",
       " 20         476       486       471    ...          504       480       499   \n",
       " 21         478       486       485    ...          508       483       484   \n",
       " 22         477       494       482    ...          468       480       496   \n",
       " 23         476       476       479    ...          496       474       466   \n",
       " 24         478       478       486    ...          473       480       506   \n",
       " 25         477       482       477    ...          504       478       494   \n",
       " 26         477       515       477    ...          491       478       541   \n",
       " 27         477       492       486    ...          448       473       487   \n",
       " 28         478       492       480    ...          536       478       513   \n",
       " 29         476       486       475    ...          517       482       465   \n",
       " ...        ...       ...       ...    ...          ...       ...       ...   \n",
       " 1970       475       509       474    ...          506       477       476   \n",
       " 1971       478       493       485    ...          444       479       494   \n",
       " 1972       475       479       478    ...          531       487       514   \n",
       " 1973       477       483       482    ...          481       479       473   \n",
       " 1974       476       468       471    ...          492       477       488   \n",
       " 1975       477       503       484    ...          490       479       480   \n",
       " 1976       475       487       476    ...          490       484       465   \n",
       " 1977       479       464       474    ...          518       480       488   \n",
       " 1978       478       479       484    ...          469       472       526   \n",
       " 1979       476       467       474    ...          535       473       534   \n",
       " 1980       475       499       487    ...          510       483       464   \n",
       " 1981       475       490       480    ...          473       483       479   \n",
       " 1982       477       489       481    ...          497       480       511   \n",
       " 1983       472       480       482    ...          489       483       482   \n",
       " 1984       477       478       478    ...          494       475       468   \n",
       " 1985       476       489       487    ...          485       475       445   \n",
       " 1986       475       467       475    ...          515       477       509   \n",
       " 1987       477       493       487    ...          486       497       506   \n",
       " 1988       477       498       485    ...          497       472       494   \n",
       " 1989       475       486       481    ...          505       482       536   \n",
       " 1990       476       482       475    ...          481       473       488   \n",
       " 1991       477       499       490    ...          466       481       504   \n",
       " 1992       475       461       494    ...          488       479       487   \n",
       " 1993       476       501       486    ...          450       476       435   \n",
       " 1994       476       470       479    ...          518       474       453   \n",
       " 1995       476       518       467    ...          467       479       449   \n",
       " 1996       479       480       484    ...          464       474       473   \n",
       " 1997       476       493       466    ...          501       483       479   \n",
       " 1998       477       510       472    ...          487       483       526   \n",
       " 1999       479       481       473    ...          467       476       508   \n",
       " \n",
       "       feat_493  feat_494  feat_495  feat_496  feat_497  feat_498  feat_499  \n",
       " 0          485       511       485       481       479       475       496  \n",
       " 1          338       513       486       483       492       510       517  \n",
       " 2          650       506       501       480       489       499       498  \n",
       " 3          572       454       469       475       482       494       461  \n",
       " 4          435       486       508       481       504       495       511  \n",
       " 5          435       491       564       482       463       457       500  \n",
       " 6          648       484       475       479       475       462       484  \n",
       " 7          351       462       533       480       501       529       489  \n",
       " 8          633       453       556       458       473       531       440  \n",
       " 9          576       511       508       478       486       582       496  \n",
       " 10         491       512       476       471       501       550       517  \n",
       " 11         599       459       452       475       496       505       485  \n",
       " 12         696       470       503       473       493       506       522  \n",
       " 13         649       486       520       485       480       500       485  \n",
       " 14         633       562       482       474       500       535       474  \n",
       " 15         732       509       548       479       500       529       539  \n",
       " 16         207       547       479       476       461       520       504  \n",
       " 17         549       506       574       483       496       521       495  \n",
       " 18         627       509       451       476       479       540       506  \n",
       " 19         363       495       536       484       494       503       447  \n",
       " 20         285       486       480       479       493       578       484  \n",
       " 21         708       545       462       474       503       454       501  \n",
       " 22         453       451       462       484       492       520       511  \n",
       " 23         366       443       489       480       515       520       500  \n",
       " 24         596       463       486       478       510       472       508  \n",
       " 25         604       553       518       473       454       455       528  \n",
       " 26         649       435       513       481       463       506       569  \n",
       " 27         314       464       499       480       463       480       464  \n",
       " 28         561       504       509       482       485       481       487  \n",
       " 29         557       527       525       478       485       467       473  \n",
       " ...        ...       ...       ...       ...       ...       ...       ...  \n",
       " 1970       554       508       535       476       476       515       481  \n",
       " 1971       595       477       552       477       474       555       538  \n",
       " 1972       524       539       525       475       493       507       527  \n",
       " 1973       564       480       474       479       493       550       476  \n",
       " 1974       516       554       521       478       459       428       449  \n",
       " 1975       498       510       498       481       474       512       477  \n",
       " 1976       496       529       510       486       497       457       478  \n",
       " 1977       695       407       483       478       460       533       493  \n",
       " 1978       713       517       410       487       490       467       475  \n",
       " 1979       789       447       517       474       474       545       506  \n",
       " 1980       410       548       472       479       479       524       527  \n",
       " 1981       187       587       512       478       497       502       527  \n",
       " 1982       479       480       534       485       481       505       583  \n",
       " 1983       458       485       474       487       488       465       495  \n",
       " 1984       433       456       548       484       463       523       503  \n",
       " 1985       600       488       515       479       470       500       451  \n",
       " 1986       583       542       523       472       472       562       457  \n",
       " 1987       573       440       522       490       469       520       506  \n",
       " 1988       487       529       520       475       485       552       459  \n",
       " 1989       639       522       558       474       477       579       504  \n",
       " 1990       438       450       500       461       485       525       510  \n",
       " 1991       304       455       539       480       506       552       478  \n",
       " 1992       488       451       515       485       463       504       507  \n",
       " 1993       736       539       546       482       514       557       540  \n",
       " 1994       715       447       485       468       491       569       452  \n",
       " 1995       588       499       506       475       463       507       501  \n",
       " 1996       424       454       570       476       493       465       485  \n",
       " 1997       687       488       488       483       500       523       481  \n",
       " 1998       750       486       529       484       473       527       485  \n",
       " 1999       449       463       533       481       489       516       516  \n",
       " \n",
       " [2000 rows x 500 columns],\n",
       " 'X_test': array([[ 0.00723452, -1.32777837, -1.20834476, ..., -0.90846886,\n",
       "          1.12670372, -1.13410757],\n",
       "        [-0.22842967,  0.80525446,  0.52264286, ...,  1.64903954,\n",
       "         -0.94742742,  0.84834942],\n",
       "        [ 0.02967872, -0.5204847 , -0.51594971, ...,  1.33495956,\n",
       "         -0.54598268,  1.86722174],\n",
       "        ..., \n",
       "        [-2.55140523,  1.77548814,  2.08053173, ..., -0.30274319,\n",
       "          1.32742609,  0.54031826],\n",
       "        [ 0.13067766, -1.35740383, -1.20834476, ..., -2.4115659 ,\n",
       "          1.78239679, -1.71067872],\n",
       "        [ 0.36634185,  0.24237079,  0.3495441 , ..., -1.76097166,\n",
       "          1.43447802, -0.21001407]]),\n",
       " 'X_train': array([[  6.46894454e-01,  -1.07596200e+00,  -1.03524600e+00, ...,\n",
       "           3.25416770e-01,  -7.06560579e-01,   2.48083562e-01],\n",
       "        [  1.10700072e+00,   2.64589884e-01,   4.36093483e-01, ...,\n",
       "           5.49759612e-01,  -1.57635751e+00,   1.73295175e+00],\n",
       "        [  1.20799966e+00,  -1.66847111e+00,  -1.64109167e+00, ...,\n",
       "           1.45942497e-01,  -1.41577961e+00,   9.43128243e-01],\n",
       "        ..., \n",
       "        [ -1.90052319e+00,   4.27529892e-01,   4.36093483e-01, ...,\n",
       "           1.45942497e-01,   9.92888807e-01,  -3.67978769e-01],\n",
       "        [  5.57117620e-01,  -2.58686025e+00,  -2.59313486e+00, ...,\n",
       "           1.40226241e+00,  -6.26271631e-01,  -1.01563404e+00],\n",
       "        [  7.47893391e-01,   5.36714510e-03,   3.34657608e-03, ...,\n",
       "           1.94068523e+00,  -1.18829426e+00,   3.35208992e+00]]),\n",
       " 'processes': [{...}, <function lib.project_5.general_transformer>],\n",
       " 'transformer': SelectKBest(k=10, score_func=<function f_classif at 0x1144fb758>),\n",
       " 'y': 0      -1\n",
       " 1      -1\n",
       " 2      -1\n",
       " 3       1\n",
       " 4       1\n",
       " 5       1\n",
       " 6       1\n",
       " 7      -1\n",
       " 8       1\n",
       " 9      -1\n",
       " 10     -1\n",
       " 11     -1\n",
       " 12      1\n",
       " 13     -1\n",
       " 14     -1\n",
       " 15     -1\n",
       " 16     -1\n",
       " 17      1\n",
       " 18     -1\n",
       " 19      1\n",
       " 20     -1\n",
       " 21      1\n",
       " 22     -1\n",
       " 23      1\n",
       " 24     -1\n",
       " 25     -1\n",
       " 26      1\n",
       " 27     -1\n",
       " 28      1\n",
       " 29     -1\n",
       "        ..\n",
       " 1970    1\n",
       " 1971   -1\n",
       " 1972    1\n",
       " 1973    1\n",
       " 1974   -1\n",
       " 1975    1\n",
       " 1976    1\n",
       " 1977    1\n",
       " 1978   -1\n",
       " 1979   -1\n",
       " 1980    1\n",
       " 1981    1\n",
       " 1982   -1\n",
       " 1983   -1\n",
       " 1984    1\n",
       " 1985    1\n",
       " 1986   -1\n",
       " 1987    1\n",
       " 1988   -1\n",
       " 1989    1\n",
       " 1990   -1\n",
       " 1991   -1\n",
       " 1992   -1\n",
       " 1993   -1\n",
       " 1994    1\n",
       " 1995    1\n",
       " 1996   -1\n",
       " 1997   -1\n",
       " 1998    1\n",
       " 1999    1\n",
       " Name: label, dtype: int64,\n",
       " 'y_test': 636    -1\n",
       " 1422   -1\n",
       " 15     -1\n",
       " 525    -1\n",
       " 569    -1\n",
       " 1888   -1\n",
       " 528     1\n",
       " 66     -1\n",
       " 20     -1\n",
       " 1671    1\n",
       " 965     1\n",
       " 1444    1\n",
       " 966    -1\n",
       " 1782   -1\n",
       " 669    -1\n",
       " 666     1\n",
       " 869    -1\n",
       " 1049    1\n",
       " 704    -1\n",
       " 1948    1\n",
       " 1083    1\n",
       " 36     -1\n",
       " 959     1\n",
       " 1524   -1\n",
       " 1364    1\n",
       " 740     1\n",
       " 1283    1\n",
       " 1312    1\n",
       " 897     1\n",
       " 1745    1\n",
       "        ..\n",
       " 98     -1\n",
       " 651     1\n",
       " 327     1\n",
       " 1666    1\n",
       " 1905    1\n",
       " 984     1\n",
       " 1704   -1\n",
       " 1220   -1\n",
       " 1693    1\n",
       " 679     1\n",
       " 1305   -1\n",
       " 1085   -1\n",
       " 494    -1\n",
       " 653     1\n",
       " 948     1\n",
       " 919     1\n",
       " 1681    1\n",
       " 1914   -1\n",
       " 1157   -1\n",
       " 1997   -1\n",
       " 848    -1\n",
       " 1404   -1\n",
       " 310    -1\n",
       " 1982   -1\n",
       " 385     1\n",
       " 71      1\n",
       " 931    -1\n",
       " 1872    1\n",
       " 1365    1\n",
       " 738     1\n",
       " Name: label, dtype: int64,\n",
       " 'y_train': 1229   -1\n",
       " 1994    1\n",
       " 1784   -1\n",
       " 890    -1\n",
       " 874     1\n",
       " 155     1\n",
       " 378     1\n",
       " 888     1\n",
       " 230     1\n",
       " 706     1\n",
       " 789     1\n",
       " 513     1\n",
       " 1223    1\n",
       " 608     1\n",
       " 970    -1\n",
       " 1112   -1\n",
       " 425    -1\n",
       " 321    -1\n",
       " 1246   -1\n",
       " 1377   -1\n",
       " 308     1\n",
       " 782     1\n",
       " 1998    1\n",
       " 742    -1\n",
       " 1019    1\n",
       " 1255   -1\n",
       " 559     1\n",
       " 652     1\n",
       " 1027    1\n",
       " 1399    1\n",
       "        ..\n",
       " 856    -1\n",
       " 1160    1\n",
       " 1332    1\n",
       " 1779    1\n",
       " 1950    1\n",
       " 1383   -1\n",
       " 505    -1\n",
       " 1089    1\n",
       " 1424   -1\n",
       " 932    -1\n",
       " 1861    1\n",
       " 281     1\n",
       " 1523   -1\n",
       " 451     1\n",
       " 939     1\n",
       " 113    -1\n",
       " 1372   -1\n",
       " 1821   -1\n",
       " 1633   -1\n",
       " 298     1\n",
       " 1104   -1\n",
       " 1646    1\n",
       " 1506   -1\n",
       " 1567    1\n",
       " 1373   -1\n",
       " 973     1\n",
       " 411     1\n",
       " 1999    1\n",
       " 450     1\n",
       " 131    -1\n",
       " Name: label, dtype: int64}"
      ]
     },
     "execution_count": 23,
     "metadata": {},
     "output_type": "execute_result"
    }
   ],
   "source": [
    "general_process(general_transformer, madelon_kbest_dict)"
   ]
  },
  {
   "cell_type": "code",
   "execution_count": 24,
   "metadata": {
    "collapsed": false
   },
   "outputs": [
    {
     "data": {
      "text/plain": [
       "(1500, 10)"
      ]
     },
     "execution_count": 24,
     "metadata": {},
     "output_type": "execute_result"
    }
   ],
   "source": [
    "# confirming K-Best only selecting 10-Best features\n",
    "\n",
    "pd.DataFrame(madelon_kbest_dict['X_train']).shape"
   ]
  },
  {
   "cell_type": "code",
   "execution_count": 25,
   "metadata": {
    "collapsed": false
   },
   "outputs": [
    {
     "data": {
      "text/html": [
       "<div>\n",
       "<table border=\"1\" class=\"dataframe\">\n",
       "  <thead>\n",
       "    <tr style=\"text-align: right;\">\n",
       "      <th></th>\n",
       "      <th>0</th>\n",
       "      <th>1</th>\n",
       "      <th>2</th>\n",
       "      <th>3</th>\n",
       "      <th>4</th>\n",
       "      <th>5</th>\n",
       "      <th>6</th>\n",
       "      <th>7</th>\n",
       "      <th>8</th>\n",
       "      <th>9</th>\n",
       "    </tr>\n",
       "  </thead>\n",
       "  <tbody>\n",
       "    <tr>\n",
       "      <th>0</th>\n",
       "      <td>0.646894</td>\n",
       "      <td>-1.075962</td>\n",
       "      <td>-1.035246</td>\n",
       "      <td>-0.771898</td>\n",
       "      <td>0.680493</td>\n",
       "      <td>0.341848</td>\n",
       "      <td>0.359856</td>\n",
       "      <td>0.325417</td>\n",
       "      <td>-0.706561</td>\n",
       "      <td>0.248084</td>\n",
       "    </tr>\n",
       "    <tr>\n",
       "      <th>1</th>\n",
       "      <td>1.107001</td>\n",
       "      <td>0.264590</td>\n",
       "      <td>0.436093</td>\n",
       "      <td>-1.573704</td>\n",
       "      <td>1.236901</td>\n",
       "      <td>-0.067575</td>\n",
       "      <td>0.359856</td>\n",
       "      <td>0.549760</td>\n",
       "      <td>-1.576358</td>\n",
       "      <td>1.732952</td>\n",
       "    </tr>\n",
       "    <tr>\n",
       "      <th>2</th>\n",
       "      <td>1.208000</td>\n",
       "      <td>-1.668471</td>\n",
       "      <td>-1.641092</td>\n",
       "      <td>-1.349944</td>\n",
       "      <td>1.659003</td>\n",
       "      <td>0.085958</td>\n",
       "      <td>0.175706</td>\n",
       "      <td>0.145942</td>\n",
       "      <td>-1.415780</td>\n",
       "      <td>0.943128</td>\n",
       "    </tr>\n",
       "    <tr>\n",
       "      <th>3</th>\n",
       "      <td>0.366342</td>\n",
       "      <td>-0.105728</td>\n",
       "      <td>-0.083203</td>\n",
       "      <td>-1.126184</td>\n",
       "      <td>0.277577</td>\n",
       "      <td>0.239492</td>\n",
       "      <td>1.536367</td>\n",
       "      <td>1.379828</td>\n",
       "      <td>-1.067861</td>\n",
       "      <td>1.709257</td>\n",
       "    </tr>\n",
       "    <tr>\n",
       "      <th>4</th>\n",
       "      <td>-1.720970</td>\n",
       "      <td>1.094103</td>\n",
       "      <td>1.215038</td>\n",
       "      <td>2.043750</td>\n",
       "      <td>-1.976834</td>\n",
       "      <td>-1.408435</td>\n",
       "      <td>-1.174724</td>\n",
       "      <td>-1.289852</td>\n",
       "      <td>1.755634</td>\n",
       "      <td>-1.039329</td>\n",
       "    </tr>\n",
       "  </tbody>\n",
       "</table>\n",
       "</div>"
      ],
      "text/plain": [
       "          0         1         2         3         4         5         6  \\\n",
       "0  0.646894 -1.075962 -1.035246 -0.771898  0.680493  0.341848  0.359856   \n",
       "1  1.107001  0.264590  0.436093 -1.573704  1.236901 -0.067575  0.359856   \n",
       "2  1.208000 -1.668471 -1.641092 -1.349944  1.659003  0.085958  0.175706   \n",
       "3  0.366342 -0.105728 -0.083203 -1.126184  0.277577  0.239492  1.536367   \n",
       "4 -1.720970  1.094103  1.215038  2.043750 -1.976834 -1.408435 -1.174724   \n",
       "\n",
       "          7         8         9  \n",
       "0  0.325417 -0.706561  0.248084  \n",
       "1  0.549760 -1.576358  1.732952  \n",
       "2  0.145942 -1.415780  0.943128  \n",
       "3  1.379828 -1.067861  1.709257  \n",
       "4 -1.289852  1.755634 -1.039329  "
      ]
     },
     "execution_count": 25,
     "metadata": {},
     "output_type": "execute_result"
    }
   ],
   "source": [
    "pd.DataFrame(madelon_kbest_dict['X_train']).head()"
   ]
  },
  {
   "cell_type": "code",
   "execution_count": 26,
   "metadata": {
    "collapsed": false
   },
   "outputs": [
    {
     "data": {
      "text/plain": [
       "(500, 10)"
      ]
     },
     "execution_count": 26,
     "metadata": {},
     "output_type": "execute_result"
    }
   ],
   "source": [
    "pd.DataFrame(madelon_kbest_dict['X_test']).shape"
   ]
  },
  {
   "cell_type": "code",
   "execution_count": 27,
   "metadata": {
    "collapsed": false
   },
   "outputs": [
    {
     "data": {
      "text/html": [
       "<div>\n",
       "<table border=\"1\" class=\"dataframe\">\n",
       "  <thead>\n",
       "    <tr style=\"text-align: right;\">\n",
       "      <th></th>\n",
       "      <th>0</th>\n",
       "      <th>1</th>\n",
       "      <th>2</th>\n",
       "      <th>3</th>\n",
       "      <th>4</th>\n",
       "      <th>5</th>\n",
       "      <th>6</th>\n",
       "      <th>7</th>\n",
       "      <th>8</th>\n",
       "      <th>9</th>\n",
       "    </tr>\n",
       "  </thead>\n",
       "  <tbody>\n",
       "    <tr>\n",
       "      <th>0</th>\n",
       "      <td>0.007235</td>\n",
       "      <td>-1.327778</td>\n",
       "      <td>-1.208345</td>\n",
       "      <td>1.074123</td>\n",
       "      <td>-0.029406</td>\n",
       "      <td>-0.476998</td>\n",
       "      <td>-0.806425</td>\n",
       "      <td>-0.908469</td>\n",
       "      <td>1.126704</td>\n",
       "      <td>-1.134108</td>\n",
       "    </tr>\n",
       "    <tr>\n",
       "      <th>1</th>\n",
       "      <td>-0.228430</td>\n",
       "      <td>0.805254</td>\n",
       "      <td>0.522643</td>\n",
       "      <td>-0.995658</td>\n",
       "      <td>-0.250051</td>\n",
       "      <td>1.017395</td>\n",
       "      <td>1.464753</td>\n",
       "      <td>1.649040</td>\n",
       "      <td>-0.947427</td>\n",
       "      <td>0.848349</td>\n",
       "    </tr>\n",
       "    <tr>\n",
       "      <th>2</th>\n",
       "      <td>0.029679</td>\n",
       "      <td>-0.520485</td>\n",
       "      <td>-0.515950</td>\n",
       "      <td>-0.622724</td>\n",
       "      <td>0.076119</td>\n",
       "      <td>-0.180166</td>\n",
       "      <td>1.178298</td>\n",
       "      <td>1.334960</td>\n",
       "      <td>-0.545983</td>\n",
       "      <td>1.867222</td>\n",
       "    </tr>\n",
       "    <tr>\n",
       "      <th>3</th>\n",
       "      <td>0.613228</td>\n",
       "      <td>-1.075962</td>\n",
       "      <td>-1.035246</td>\n",
       "      <td>-1.032951</td>\n",
       "      <td>0.651713</td>\n",
       "      <td>1.048102</td>\n",
       "      <td>-0.100518</td>\n",
       "      <td>-0.100835</td>\n",
       "      <td>-1.041098</td>\n",
       "      <td>-0.920855</td>\n",
       "    </tr>\n",
       "    <tr>\n",
       "      <th>4</th>\n",
       "      <td>-0.430428</td>\n",
       "      <td>-0.868584</td>\n",
       "      <td>-0.775598</td>\n",
       "      <td>0.067203</td>\n",
       "      <td>-0.451509</td>\n",
       "      <td>0.720564</td>\n",
       "      <td>0.380317</td>\n",
       "      <td>0.549760</td>\n",
       "      <td>0.069566</td>\n",
       "      <td>-0.786585</td>\n",
       "    </tr>\n",
       "  </tbody>\n",
       "</table>\n",
       "</div>"
      ],
      "text/plain": [
       "          0         1         2         3         4         5         6  \\\n",
       "0  0.007235 -1.327778 -1.208345  1.074123 -0.029406 -0.476998 -0.806425   \n",
       "1 -0.228430  0.805254  0.522643 -0.995658 -0.250051  1.017395  1.464753   \n",
       "2  0.029679 -0.520485 -0.515950 -0.622724  0.076119 -0.180166  1.178298   \n",
       "3  0.613228 -1.075962 -1.035246 -1.032951  0.651713  1.048102 -0.100518   \n",
       "4 -0.430428 -0.868584 -0.775598  0.067203 -0.451509  0.720564  0.380317   \n",
       "\n",
       "          7         8         9  \n",
       "0 -0.908469  1.126704 -1.134108  \n",
       "1  1.649040 -0.947427  0.848349  \n",
       "2  1.334960 -0.545983  1.867222  \n",
       "3 -0.100835 -1.041098 -0.920855  \n",
       "4  0.549760  0.069566 -0.786585  "
      ]
     },
     "execution_count": 27,
     "metadata": {},
     "output_type": "execute_result"
    }
   ],
   "source": [
    "pd.DataFrame(madelon_kbest_dict['X_test']).head()"
   ]
  },
  {
   "cell_type": "code",
   "execution_count": 28,
   "metadata": {
    "collapsed": false
   },
   "outputs": [],
   "source": [
    "select_kbest = madelon_kbest_dict['transformer'] \n",
    "# need this to run all subsequent functions not explicity assigned to dictionary\n",
    "# analog will be the "
   ]
  },
  {
   "cell_type": "code",
   "execution_count": 29,
   "metadata": {
    "collapsed": false
   },
   "outputs": [
    {
     "data": {
      "text/plain": [
       "array([False, False, False, False, False, False, False, False, False,\n",
       "       False, False, False, False, False, False, False, False, False,\n",
       "       False, False, False, False, False, False, False, False, False,\n",
       "       False, False, False, False, False, False, False, False, False,\n",
       "       False, False, False, False, False, False, False, False, False,\n",
       "       False, False, False, False, False, False, False, False, False,\n",
       "       False, False, False, False, False, False, False, False, False,\n",
       "       False,  True, False, False, False, False, False, False, False,\n",
       "       False, False, False, False, False, False, False, False, False,\n",
       "       False, False, False, False, False, False, False, False, False,\n",
       "       False, False, False, False, False, False, False, False, False,\n",
       "       False, False, False, False, False, False,  True, False, False,\n",
       "       False, False, False, False, False, False, False, False, False,\n",
       "       False, False, False, False, False, False, False, False, False,\n",
       "       False, False,  True, False, False, False, False, False, False,\n",
       "       False, False, False, False, False, False, False, False, False,\n",
       "       False, False, False, False, False, False, False, False, False,\n",
       "       False, False, False, False, False, False, False, False, False,\n",
       "       False, False, False, False, False, False, False, False, False,\n",
       "       False, False, False, False, False, False, False, False, False,\n",
       "       False, False, False, False, False, False, False, False, False,\n",
       "       False, False, False, False, False, False, False, False, False,\n",
       "       False, False, False, False, False, False, False, False, False,\n",
       "       False, False, False, False, False, False, False, False, False,\n",
       "       False, False, False, False, False, False, False, False, False,\n",
       "       False, False, False, False, False, False, False, False, False,\n",
       "       False, False, False, False, False, False, False,  True, False,\n",
       "       False, False, False, False, False, False, False, False, False,\n",
       "       False, False, False, False, False, False, False, False, False,\n",
       "       False, False, False, False, False, False, False, False, False,\n",
       "       False, False, False, False, False, False, False, False, False,\n",
       "       False, False, False, False, False, False, False, False, False,\n",
       "       False, False, False, False, False, False, False, False, False,\n",
       "       False, False, False, False, False, False, False, False, False,\n",
       "       False, False, False, False, False, False, False, False, False,\n",
       "       False, False, False, False, False, False, False, False, False,\n",
       "       False, False, False, False, False, False, False, False, False,\n",
       "       False, False, False,  True, False,  True, False, False, False,\n",
       "       False, False, False, False, False, False, False, False, False,\n",
       "       False, False, False, False, False, False, False, False, False,\n",
       "       False, False, False, False, False, False, False, False, False,\n",
       "       False, False, False, False, False, False, False, False, False,\n",
       "       False, False, False, False, False, False, False, False, False,\n",
       "       False, False, False, False, False, False, False, False, False,\n",
       "       False, False, False, False, False, False, False, False, False,\n",
       "       False, False, False, False, False, False, False, False, False,\n",
       "       False, False, False, False, False, False, False, False, False,\n",
       "       False, False, False, False, False, False, False, False, False,\n",
       "       False, False, False, False, False, False, False, False, False,\n",
       "       False,  True, False, False, False, False, False, False, False,\n",
       "       False, False, False, False, False, False, False, False, False,\n",
       "       False, False, False, False, False, False, False, False, False,\n",
       "       False, False, False, False,  True, False, False,  True, False,\n",
       "       False, False, False, False, False, False, False, False, False,\n",
       "       False, False, False, False, False, False, False,  True, False,\n",
       "       False, False, False, False, False], dtype=bool)"
      ]
     },
     "execution_count": 29,
     "metadata": {},
     "output_type": "execute_result"
    }
   ],
   "source": [
    "select_kbest.get_support() # mask for features -- True are the ones selected"
   ]
  },
  {
   "cell_type": "code",
   "execution_count": 30,
   "metadata": {
    "collapsed": true
   },
   "outputs": [],
   "source": [
    "kbest_feature_mask = select_kbest.get_support()"
   ]
  },
  {
   "cell_type": "code",
   "execution_count": 31,
   "metadata": {
    "collapsed": false
   },
   "outputs": [
    {
     "data": {
      "text/plain": [
       "(500,)"
      ]
     },
     "execution_count": 31,
     "metadata": {},
     "output_type": "execute_result"
    }
   ],
   "source": [
    "kbest_feature_mask.shape"
   ]
  },
  {
   "cell_type": "code",
   "execution_count": 32,
   "metadata": {
    "collapsed": false
   },
   "outputs": [
    {
     "data": {
      "text/plain": [
       "(500, 1)"
      ]
     },
     "execution_count": 32,
     "metadata": {},
     "output_type": "execute_result"
    }
   ],
   "source": [
    "features_df = pd.DataFrame(X.columns.tolist(), columns=[\"Feature\"]) # columns has to be in a list, even if only one\n",
    "features_df.shape"
   ]
  },
  {
   "cell_type": "code",
   "execution_count": 33,
   "metadata": {
    "collapsed": false
   },
   "outputs": [
    {
     "data": {
      "text/html": [
       "<div>\n",
       "<table border=\"1\" class=\"dataframe\">\n",
       "  <thead>\n",
       "    <tr style=\"text-align: right;\">\n",
       "      <th></th>\n",
       "      <th>Feature</th>\n",
       "    </tr>\n",
       "  </thead>\n",
       "  <tbody>\n",
       "    <tr>\n",
       "      <th>0</th>\n",
       "      <td>feat_000</td>\n",
       "    </tr>\n",
       "    <tr>\n",
       "      <th>1</th>\n",
       "      <td>feat_001</td>\n",
       "    </tr>\n",
       "    <tr>\n",
       "      <th>2</th>\n",
       "      <td>feat_002</td>\n",
       "    </tr>\n",
       "    <tr>\n",
       "      <th>3</th>\n",
       "      <td>feat_003</td>\n",
       "    </tr>\n",
       "    <tr>\n",
       "      <th>4</th>\n",
       "      <td>feat_004</td>\n",
       "    </tr>\n",
       "  </tbody>\n",
       "</table>\n",
       "</div>"
      ],
      "text/plain": [
       "    Feature\n",
       "0  feat_000\n",
       "1  feat_001\n",
       "2  feat_002\n",
       "3  feat_003\n",
       "4  feat_004"
      ]
     },
     "execution_count": 33,
     "metadata": {},
     "output_type": "execute_result"
    }
   ],
   "source": [
    "features_df.head()"
   ]
  },
  {
   "cell_type": "code",
   "execution_count": 34,
   "metadata": {
    "collapsed": false
   },
   "outputs": [],
   "source": [
    "kbest_selected_features_df = features_df[kbest_feature_mask == True] # applying the k-best mask"
   ]
  },
  {
   "cell_type": "code",
   "execution_count": 35,
   "metadata": {
    "collapsed": false
   },
   "outputs": [
    {
     "data": {
      "text/plain": [
       "(10, 1)"
      ]
     },
     "execution_count": 35,
     "metadata": {},
     "output_type": "execute_result"
    }
   ],
   "source": [
    "kbest_selected_features_df.shape"
   ]
  },
  {
   "cell_type": "code",
   "execution_count": 36,
   "metadata": {
    "collapsed": false
   },
   "outputs": [
    {
     "data": {
      "text/html": [
       "<div>\n",
       "<table border=\"1\" class=\"dataframe\">\n",
       "  <thead>\n",
       "    <tr style=\"text-align: right;\">\n",
       "      <th></th>\n",
       "      <th>Feature</th>\n",
       "    </tr>\n",
       "  </thead>\n",
       "  <tbody>\n",
       "    <tr>\n",
       "      <th>64</th>\n",
       "      <td>feat_064</td>\n",
       "    </tr>\n",
       "    <tr>\n",
       "      <th>105</th>\n",
       "      <td>feat_105</td>\n",
       "    </tr>\n",
       "    <tr>\n",
       "      <th>128</th>\n",
       "      <td>feat_128</td>\n",
       "    </tr>\n",
       "    <tr>\n",
       "      <th>241</th>\n",
       "      <td>feat_241</td>\n",
       "    </tr>\n",
       "    <tr>\n",
       "      <th>336</th>\n",
       "      <td>feat_336</td>\n",
       "    </tr>\n",
       "    <tr>\n",
       "      <th>338</th>\n",
       "      <td>feat_338</td>\n",
       "    </tr>\n",
       "    <tr>\n",
       "      <th>442</th>\n",
       "      <td>feat_442</td>\n",
       "    </tr>\n",
       "    <tr>\n",
       "      <th>472</th>\n",
       "      <td>feat_472</td>\n",
       "    </tr>\n",
       "    <tr>\n",
       "      <th>475</th>\n",
       "      <td>feat_475</td>\n",
       "    </tr>\n",
       "    <tr>\n",
       "      <th>493</th>\n",
       "      <td>feat_493</td>\n",
       "    </tr>\n",
       "  </tbody>\n",
       "</table>\n",
       "</div>"
      ],
      "text/plain": [
       "      Feature\n",
       "64   feat_064\n",
       "105  feat_105\n",
       "128  feat_128\n",
       "241  feat_241\n",
       "336  feat_336\n",
       "338  feat_338\n",
       "442  feat_442\n",
       "472  feat_472\n",
       "475  feat_475\n",
       "493  feat_493"
      ]
     },
     "execution_count": 36,
     "metadata": {},
     "output_type": "execute_result"
    }
   ],
   "source": [
    "kbest_selected_features_df"
   ]
  },
  {
   "cell_type": "code",
   "execution_count": null,
   "metadata": {
    "collapsed": true
   },
   "outputs": [],
   "source": []
  }
 ],
 "metadata": {
  "anaconda-cloud": {},
  "kernelspec": {
   "display_name": "Python [default]",
   "language": "python",
   "name": "python2"
  },
  "language_info": {
   "codemirror_mode": {
    "name": "ipython",
    "version": 2
   },
   "file_extension": ".py",
   "mimetype": "text/x-python",
   "name": "python",
   "nbconvert_exporter": "python",
   "pygments_lexer": "ipython2",
   "version": "2.7.12"
  }
 },
 "nbformat": 4,
 "nbformat_minor": 1
}
