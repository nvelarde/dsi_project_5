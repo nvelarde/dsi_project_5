{
 "cells": [
  {
   "cell_type": "markdown",
   "metadata": {},
   "source": [
    "*For some reason, I had to import the libraries into this notebook as well as in the .py file to get code to work.  Normally, if you import the libraries relevant to the helper/wrapper functions from the .py file, you do not have to import again in your jupyter notebook.*"
   ]
  },
  {
   "cell_type": "code",
   "execution_count": 1,
   "metadata": {
    "collapsed": false
   },
   "outputs": [],
   "source": [
    "from lib.project_5 import load_data_from_database, make_data_dict, general_transformer, general_model\n",
    "from sklearn.preprocessing import StandardScaler\n",
    "from sklearn.feature_selection import SelectKBest, f_classif\n",
    "from sklearn.linear_model import LogisticRegression\n",
    "from sklearn.model_selection import GridSearchCV, cross_val_score\n",
    "import pandas as pd\n",
    "import numpy as np\n",
    "import matplotlib.pyplot as plt\n",
    "%matplotlib inline\n",
    "import seaborn as sns"
   ]
  },
  {
   "cell_type": "markdown",
   "metadata": {},
   "source": [
    "# Step 2 - Identifying Features -- l1 Penalty"
   ]
  },
  {
   "cell_type": "markdown",
   "metadata": {},
   "source": [
    "\n",
    "**Please refer to Report for further details and discussion of process, methods and results**"
   ]
  },
  {
   "cell_type": "markdown",
   "metadata": {},
   "source": [
    "## Implementation\n",
    "\n",
    "The following code pipeline uses the functions found in `lib/project_5.py`."
   ]
  },
  {
   "cell_type": "markdown",
   "metadata": {},
   "source": [
    "<img src=\"assets/identify_features.png\" width=\"600px\">"
   ]
  },
  {
   "cell_type": "markdown",
   "metadata": {},
   "source": [
    "### Loading the data from the database"
   ]
  },
  {
   "cell_type": "code",
   "execution_count": 2,
   "metadata": {
    "collapsed": false
   },
   "outputs": [],
   "source": [
    "madelon_df = load_data_from_database()"
   ]
  },
  {
   "cell_type": "markdown",
   "metadata": {},
   "source": [
    "**Getting an overview of the data**"
   ]
  },
  {
   "cell_type": "code",
   "execution_count": 3,
   "metadata": {
    "collapsed": false
   },
   "outputs": [
    {
     "data": {
      "text/html": [
       "<div>\n",
       "<table border=\"1\" class=\"dataframe\">\n",
       "  <thead>\n",
       "    <tr style=\"text-align: right;\">\n",
       "      <th></th>\n",
       "      <th>index</th>\n",
       "      <th>feat_000</th>\n",
       "      <th>feat_001</th>\n",
       "      <th>feat_002</th>\n",
       "      <th>feat_003</th>\n",
       "      <th>feat_004</th>\n",
       "      <th>feat_005</th>\n",
       "      <th>feat_006</th>\n",
       "      <th>feat_007</th>\n",
       "      <th>feat_008</th>\n",
       "      <th>...</th>\n",
       "      <th>feat_491</th>\n",
       "      <th>feat_492</th>\n",
       "      <th>feat_493</th>\n",
       "      <th>feat_494</th>\n",
       "      <th>feat_495</th>\n",
       "      <th>feat_496</th>\n",
       "      <th>feat_497</th>\n",
       "      <th>feat_498</th>\n",
       "      <th>feat_499</th>\n",
       "      <th>label</th>\n",
       "    </tr>\n",
       "  </thead>\n",
       "  <tbody>\n",
       "    <tr>\n",
       "      <th>0</th>\n",
       "      <td>0</td>\n",
       "      <td>485</td>\n",
       "      <td>477</td>\n",
       "      <td>537</td>\n",
       "      <td>479</td>\n",
       "      <td>452</td>\n",
       "      <td>471</td>\n",
       "      <td>491</td>\n",
       "      <td>476</td>\n",
       "      <td>475</td>\n",
       "      <td>...</td>\n",
       "      <td>481</td>\n",
       "      <td>477</td>\n",
       "      <td>485</td>\n",
       "      <td>511</td>\n",
       "      <td>485</td>\n",
       "      <td>481</td>\n",
       "      <td>479</td>\n",
       "      <td>475</td>\n",
       "      <td>496</td>\n",
       "      <td>-1</td>\n",
       "    </tr>\n",
       "    <tr>\n",
       "      <th>1</th>\n",
       "      <td>1</td>\n",
       "      <td>483</td>\n",
       "      <td>458</td>\n",
       "      <td>460</td>\n",
       "      <td>487</td>\n",
       "      <td>587</td>\n",
       "      <td>475</td>\n",
       "      <td>526</td>\n",
       "      <td>479</td>\n",
       "      <td>485</td>\n",
       "      <td>...</td>\n",
       "      <td>478</td>\n",
       "      <td>487</td>\n",
       "      <td>338</td>\n",
       "      <td>513</td>\n",
       "      <td>486</td>\n",
       "      <td>483</td>\n",
       "      <td>492</td>\n",
       "      <td>510</td>\n",
       "      <td>517</td>\n",
       "      <td>-1</td>\n",
       "    </tr>\n",
       "    <tr>\n",
       "      <th>2</th>\n",
       "      <td>2</td>\n",
       "      <td>487</td>\n",
       "      <td>542</td>\n",
       "      <td>499</td>\n",
       "      <td>468</td>\n",
       "      <td>448</td>\n",
       "      <td>471</td>\n",
       "      <td>442</td>\n",
       "      <td>478</td>\n",
       "      <td>480</td>\n",
       "      <td>...</td>\n",
       "      <td>481</td>\n",
       "      <td>492</td>\n",
       "      <td>650</td>\n",
       "      <td>506</td>\n",
       "      <td>501</td>\n",
       "      <td>480</td>\n",
       "      <td>489</td>\n",
       "      <td>499</td>\n",
       "      <td>498</td>\n",
       "      <td>-1</td>\n",
       "    </tr>\n",
       "    <tr>\n",
       "      <th>3</th>\n",
       "      <td>3</td>\n",
       "      <td>480</td>\n",
       "      <td>491</td>\n",
       "      <td>510</td>\n",
       "      <td>485</td>\n",
       "      <td>495</td>\n",
       "      <td>472</td>\n",
       "      <td>417</td>\n",
       "      <td>474</td>\n",
       "      <td>502</td>\n",
       "      <td>...</td>\n",
       "      <td>480</td>\n",
       "      <td>474</td>\n",
       "      <td>572</td>\n",
       "      <td>454</td>\n",
       "      <td>469</td>\n",
       "      <td>475</td>\n",
       "      <td>482</td>\n",
       "      <td>494</td>\n",
       "      <td>461</td>\n",
       "      <td>1</td>\n",
       "    </tr>\n",
       "    <tr>\n",
       "      <th>4</th>\n",
       "      <td>4</td>\n",
       "      <td>484</td>\n",
       "      <td>502</td>\n",
       "      <td>528</td>\n",
       "      <td>489</td>\n",
       "      <td>466</td>\n",
       "      <td>481</td>\n",
       "      <td>402</td>\n",
       "      <td>478</td>\n",
       "      <td>487</td>\n",
       "      <td>...</td>\n",
       "      <td>479</td>\n",
       "      <td>452</td>\n",
       "      <td>435</td>\n",
       "      <td>486</td>\n",
       "      <td>508</td>\n",
       "      <td>481</td>\n",
       "      <td>504</td>\n",
       "      <td>495</td>\n",
       "      <td>511</td>\n",
       "      <td>1</td>\n",
       "    </tr>\n",
       "  </tbody>\n",
       "</table>\n",
       "<p>5 rows × 502 columns</p>\n",
       "</div>"
      ],
      "text/plain": [
       "   index  feat_000  feat_001  feat_002  feat_003  feat_004  feat_005  \\\n",
       "0      0       485       477       537       479       452       471   \n",
       "1      1       483       458       460       487       587       475   \n",
       "2      2       487       542       499       468       448       471   \n",
       "3      3       480       491       510       485       495       472   \n",
       "4      4       484       502       528       489       466       481   \n",
       "\n",
       "   feat_006  feat_007  feat_008  ...    feat_491  feat_492  feat_493  \\\n",
       "0       491       476       475  ...         481       477       485   \n",
       "1       526       479       485  ...         478       487       338   \n",
       "2       442       478       480  ...         481       492       650   \n",
       "3       417       474       502  ...         480       474       572   \n",
       "4       402       478       487  ...         479       452       435   \n",
       "\n",
       "   feat_494  feat_495  feat_496  feat_497  feat_498  feat_499  label  \n",
       "0       511       485       481       479       475       496     -1  \n",
       "1       513       486       483       492       510       517     -1  \n",
       "2       506       501       480       489       499       498     -1  \n",
       "3       454       469       475       482       494       461      1  \n",
       "4       486       508       481       504       495       511      1  \n",
       "\n",
       "[5 rows x 502 columns]"
      ]
     },
     "execution_count": 3,
     "metadata": {},
     "output_type": "execute_result"
    }
   ],
   "source": [
    "madelon_df.head()"
   ]
  },
  {
   "cell_type": "code",
   "execution_count": 4,
   "metadata": {
    "collapsed": false
   },
   "outputs": [
    {
     "name": "stdout",
     "output_type": "stream",
     "text": [
      "<class 'pandas.core.frame.DataFrame'>\n",
      "RangeIndex: 2000 entries, 0 to 1999\n",
      "Columns: 502 entries, index to label\n",
      "dtypes: int64(502)\n",
      "memory usage: 7.7 MB\n"
     ]
    }
   ],
   "source": [
    "madelon_df.info()"
   ]
  },
  {
   "cell_type": "code",
   "execution_count": 5,
   "metadata": {
    "collapsed": false
   },
   "outputs": [
    {
     "data": {
      "text/plain": [
       "(2000, 502)"
      ]
     },
     "execution_count": 5,
     "metadata": {},
     "output_type": "execute_result"
    }
   ],
   "source": [
    "madelon_df.shape"
   ]
  },
  {
   "cell_type": "markdown",
   "metadata": {},
   "source": [
    "**Creating our target vector**"
   ]
  },
  {
   "cell_type": "code",
   "execution_count": 6,
   "metadata": {
    "collapsed": false
   },
   "outputs": [],
   "source": [
    "y = madelon_df['label']"
   ]
  },
  {
   "cell_type": "code",
   "execution_count": 7,
   "metadata": {
    "collapsed": false
   },
   "outputs": [
    {
     "data": {
      "text/plain": [
       "array([-1,  1])"
      ]
     },
     "execution_count": 7,
     "metadata": {},
     "output_type": "execute_result"
    }
   ],
   "source": [
    "# target vector is comprised of '1's and '-1's\n",
    "\n",
    "y.unique()"
   ]
  },
  {
   "cell_type": "code",
   "execution_count": 8,
   "metadata": {
    "collapsed": false
   },
   "outputs": [
    {
     "data": {
      "text/plain": [
       " 1    1000\n",
       "-1    1000\n",
       "Name: label, dtype: int64"
      ]
     },
     "execution_count": 8,
     "metadata": {},
     "output_type": "execute_result"
    }
   ],
   "source": [
    "# the target vector is evenly distributed\n",
    "\n",
    "y.value_counts()"
   ]
  },
  {
   "cell_type": "markdown",
   "metadata": {},
   "source": [
    "**Creating the feature matrix**"
   ]
  },
  {
   "cell_type": "code",
   "execution_count": 9,
   "metadata": {
    "collapsed": false
   },
   "outputs": [
    {
     "data": {
      "text/html": [
       "<div>\n",
       "<table border=\"1\" class=\"dataframe\">\n",
       "  <thead>\n",
       "    <tr style=\"text-align: right;\">\n",
       "      <th></th>\n",
       "      <th>feat_000</th>\n",
       "      <th>feat_001</th>\n",
       "      <th>feat_002</th>\n",
       "      <th>feat_003</th>\n",
       "      <th>feat_004</th>\n",
       "      <th>feat_005</th>\n",
       "      <th>feat_006</th>\n",
       "      <th>feat_007</th>\n",
       "      <th>feat_008</th>\n",
       "      <th>feat_009</th>\n",
       "      <th>...</th>\n",
       "      <th>feat_490</th>\n",
       "      <th>feat_491</th>\n",
       "      <th>feat_492</th>\n",
       "      <th>feat_493</th>\n",
       "      <th>feat_494</th>\n",
       "      <th>feat_495</th>\n",
       "      <th>feat_496</th>\n",
       "      <th>feat_497</th>\n",
       "      <th>feat_498</th>\n",
       "      <th>feat_499</th>\n",
       "    </tr>\n",
       "  </thead>\n",
       "  <tbody>\n",
       "    <tr>\n",
       "      <th>0</th>\n",
       "      <td>485</td>\n",
       "      <td>477</td>\n",
       "      <td>537</td>\n",
       "      <td>479</td>\n",
       "      <td>452</td>\n",
       "      <td>471</td>\n",
       "      <td>491</td>\n",
       "      <td>476</td>\n",
       "      <td>475</td>\n",
       "      <td>473</td>\n",
       "      <td>...</td>\n",
       "      <td>477</td>\n",
       "      <td>481</td>\n",
       "      <td>477</td>\n",
       "      <td>485</td>\n",
       "      <td>511</td>\n",
       "      <td>485</td>\n",
       "      <td>481</td>\n",
       "      <td>479</td>\n",
       "      <td>475</td>\n",
       "      <td>496</td>\n",
       "    </tr>\n",
       "  </tbody>\n",
       "</table>\n",
       "<p>1 rows × 500 columns</p>\n",
       "</div>"
      ],
      "text/plain": [
       "   feat_000  feat_001  feat_002  feat_003  feat_004  feat_005  feat_006  \\\n",
       "0       485       477       537       479       452       471       491   \n",
       "\n",
       "   feat_007  feat_008  feat_009    ...     feat_490  feat_491  feat_492  \\\n",
       "0       476       475       473    ...          477       481       477   \n",
       "\n",
       "   feat_493  feat_494  feat_495  feat_496  feat_497  feat_498  feat_499  \n",
       "0       485       511       485       481       479       475       496  \n",
       "\n",
       "[1 rows x 500 columns]"
      ]
     },
     "execution_count": 9,
     "metadata": {},
     "output_type": "execute_result"
    }
   ],
   "source": [
    "X = madelon_df.drop(['label', 'index'], axis=1)\n",
    "X.head(1)"
   ]
  },
  {
   "cell_type": "markdown",
   "metadata": {},
   "source": [
    "**Confirming that our target vector and feature matrix have the appropriate shapes for sklearn**"
   ]
  },
  {
   "cell_type": "code",
   "execution_count": 10,
   "metadata": {
    "collapsed": false
   },
   "outputs": [
    {
     "data": {
      "text/plain": [
       "((2000, 500), (2000,))"
      ]
     },
     "execution_count": 10,
     "metadata": {},
     "output_type": "execute_result"
    }
   ],
   "source": [
    "X.shape, y.shape"
   ]
  },
  {
   "cell_type": "markdown",
   "metadata": {},
   "source": [
    "**Spliting the data into Train-Test portions and initializing our data dictionary**"
   ]
  },
  {
   "cell_type": "code",
   "execution_count": 11,
   "metadata": {
    "collapsed": false
   },
   "outputs": [],
   "source": [
    "madelon_data_dict = make_data_dict(X, y, 0.25, 82)"
   ]
  },
  {
   "cell_type": "markdown",
   "metadata": {},
   "source": [
    "**Confirming the completion of the Train-Test-Split**"
   ]
  },
  {
   "cell_type": "code",
   "execution_count": 12,
   "metadata": {
    "collapsed": false
   },
   "outputs": [
    {
     "data": {
      "text/plain": [
       "(500, 500)"
      ]
     },
     "execution_count": 12,
     "metadata": {},
     "output_type": "execute_result"
    }
   ],
   "source": [
    "pd.DataFrame(madelon_data_dict['X_test']).shape"
   ]
  },
  {
   "cell_type": "code",
   "execution_count": 13,
   "metadata": {
    "collapsed": false
   },
   "outputs": [
    {
     "data": {
      "text/plain": [
       "(1500, 500)"
      ]
     },
     "execution_count": 13,
     "metadata": {},
     "output_type": "execute_result"
    }
   ],
   "source": [
    "pd.DataFrame(madelon_data_dict['X_train']).shape"
   ]
  },
  {
   "cell_type": "markdown",
   "metadata": {
    "collapsed": true
   },
   "source": [
    "### Transforming the data using StandardScaler"
   ]
  },
  {
   "cell_type": "code",
   "execution_count": 14,
   "metadata": {
    "collapsed": false
   },
   "outputs": [],
   "source": [
    "scaled_dictionary = general_transformer(StandardScaler(), madelon_data_dict)"
   ]
  },
  {
   "cell_type": "markdown",
   "metadata": {},
   "source": [
    "**Confirming transformation of `X_train` and `X_test`**"
   ]
  },
  {
   "cell_type": "code",
   "execution_count": 15,
   "metadata": {
    "collapsed": false
   },
   "outputs": [
    {
     "data": {
      "text/html": [
       "<div>\n",
       "<table border=\"1\" class=\"dataframe\">\n",
       "  <thead>\n",
       "    <tr style=\"text-align: right;\">\n",
       "      <th></th>\n",
       "      <th>0</th>\n",
       "      <th>1</th>\n",
       "      <th>2</th>\n",
       "      <th>3</th>\n",
       "      <th>4</th>\n",
       "      <th>5</th>\n",
       "      <th>6</th>\n",
       "      <th>7</th>\n",
       "      <th>8</th>\n",
       "      <th>9</th>\n",
       "      <th>...</th>\n",
       "      <th>490</th>\n",
       "      <th>491</th>\n",
       "      <th>492</th>\n",
       "      <th>493</th>\n",
       "      <th>494</th>\n",
       "      <th>495</th>\n",
       "      <th>496</th>\n",
       "      <th>497</th>\n",
       "      <th>498</th>\n",
       "      <th>499</th>\n",
       "    </tr>\n",
       "  </thead>\n",
       "  <tbody>\n",
       "    <tr>\n",
       "      <th>0</th>\n",
       "      <td>1.136431</td>\n",
       "      <td>0.610539</td>\n",
       "      <td>-0.217152</td>\n",
       "      <td>-1.804330</td>\n",
       "      <td>-0.072199</td>\n",
       "      <td>0.395568</td>\n",
       "      <td>1.264948</td>\n",
       "      <td>-0.383904</td>\n",
       "      <td>1.209344</td>\n",
       "      <td>-2.177202</td>\n",
       "      <td>...</td>\n",
       "      <td>0.642616</td>\n",
       "      <td>-0.695112</td>\n",
       "      <td>-0.965624</td>\n",
       "      <td>0.248084</td>\n",
       "      <td>-0.289810</td>\n",
       "      <td>-1.338782</td>\n",
       "      <td>0.658693</td>\n",
       "      <td>-0.365804</td>\n",
       "      <td>-1.764246</td>\n",
       "      <td>0.575991</td>\n",
       "    </tr>\n",
       "    <tr>\n",
       "      <th>1</th>\n",
       "      <td>0.203911</td>\n",
       "      <td>-0.586640</td>\n",
       "      <td>1.968420</td>\n",
       "      <td>0.834651</td>\n",
       "      <td>-2.953655</td>\n",
       "      <td>-0.495351</td>\n",
       "      <td>0.375311</td>\n",
       "      <td>-0.383904</td>\n",
       "      <td>-1.115211</td>\n",
       "      <td>0.059554</td>\n",
       "      <td>...</td>\n",
       "      <td>1.693163</td>\n",
       "      <td>-1.200648</td>\n",
       "      <td>-1.382716</td>\n",
       "      <td>1.732952</td>\n",
       "      <td>-1.359683</td>\n",
       "      <td>-0.672545</td>\n",
       "      <td>-1.768071</td>\n",
       "      <td>0.596839</td>\n",
       "      <td>1.648343</td>\n",
       "      <td>-1.465802</td>\n",
       "    </tr>\n",
       "    <tr>\n",
       "      <th>2</th>\n",
       "      <td>0.048491</td>\n",
       "      <td>0.311244</td>\n",
       "      <td>1.094191</td>\n",
       "      <td>2.044184</td>\n",
       "      <td>0.831308</td>\n",
       "      <td>1.138000</td>\n",
       "      <td>0.350599</td>\n",
       "      <td>-0.383904</td>\n",
       "      <td>0.013859</td>\n",
       "      <td>0.059554</td>\n",
       "      <td>...</td>\n",
       "      <td>-0.551187</td>\n",
       "      <td>-0.947880</td>\n",
       "      <td>0.410780</td>\n",
       "      <td>0.943128</td>\n",
       "      <td>-1.157275</td>\n",
       "      <td>1.059673</td>\n",
       "      <td>-1.248050</td>\n",
       "      <td>-0.884151</td>\n",
       "      <td>1.272152</td>\n",
       "      <td>0.575991</td>\n",
       "    </tr>\n",
       "  </tbody>\n",
       "</table>\n",
       "<p>3 rows × 500 columns</p>\n",
       "</div>"
      ],
      "text/plain": [
       "        0         1         2         3         4         5         6    \\\n",
       "0  1.136431  0.610539 -0.217152 -1.804330 -0.072199  0.395568  1.264948   \n",
       "1  0.203911 -0.586640  1.968420  0.834651 -2.953655 -0.495351  0.375311   \n",
       "2  0.048491  0.311244  1.094191  2.044184  0.831308  1.138000  0.350599   \n",
       "\n",
       "        7         8         9      ...          490       491       492  \\\n",
       "0 -0.383904  1.209344 -2.177202    ...     0.642616 -0.695112 -0.965624   \n",
       "1 -0.383904 -1.115211  0.059554    ...     1.693163 -1.200648 -1.382716   \n",
       "2 -0.383904  0.013859  0.059554    ...    -0.551187 -0.947880  0.410780   \n",
       "\n",
       "        493       494       495       496       497       498       499  \n",
       "0  0.248084 -0.289810 -1.338782  0.658693 -0.365804 -1.764246  0.575991  \n",
       "1  1.732952 -1.359683 -0.672545 -1.768071  0.596839  1.648343 -1.465802  \n",
       "2  0.943128 -1.157275  1.059673 -1.248050 -0.884151  1.272152  0.575991  \n",
       "\n",
       "[3 rows x 500 columns]"
      ]
     },
     "execution_count": 15,
     "metadata": {},
     "output_type": "execute_result"
    }
   ],
   "source": [
    "pd.DataFrame(scaled_dictionary['X_train']).head(3)"
   ]
  },
  {
   "cell_type": "code",
   "execution_count": 16,
   "metadata": {
    "collapsed": false
   },
   "outputs": [
    {
     "data": {
      "text/plain": [
       "(1500, 500)"
      ]
     },
     "execution_count": 16,
     "metadata": {},
     "output_type": "execute_result"
    }
   ],
   "source": [
    "pd.DataFrame(scaled_dictionary['X_train']).shape"
   ]
  },
  {
   "cell_type": "code",
   "execution_count": 17,
   "metadata": {
    "collapsed": false
   },
   "outputs": [
    {
     "data": {
      "text/html": [
       "<div>\n",
       "<table border=\"1\" class=\"dataframe\">\n",
       "  <thead>\n",
       "    <tr style=\"text-align: right;\">\n",
       "      <th></th>\n",
       "      <th>0</th>\n",
       "      <th>1</th>\n",
       "      <th>2</th>\n",
       "      <th>3</th>\n",
       "      <th>4</th>\n",
       "      <th>5</th>\n",
       "      <th>6</th>\n",
       "      <th>7</th>\n",
       "      <th>8</th>\n",
       "      <th>9</th>\n",
       "      <th>...</th>\n",
       "      <th>490</th>\n",
       "      <th>491</th>\n",
       "      <th>492</th>\n",
       "      <th>493</th>\n",
       "      <th>494</th>\n",
       "      <th>495</th>\n",
       "      <th>496</th>\n",
       "      <th>497</th>\n",
       "      <th>498</th>\n",
       "      <th>499</th>\n",
       "    </tr>\n",
       "  </thead>\n",
       "  <tbody>\n",
       "    <tr>\n",
       "      <th>0</th>\n",
       "      <td>-1.350289</td>\n",
       "      <td>-0.453620</td>\n",
       "      <td>-0.834254</td>\n",
       "      <td>-1.254542</td>\n",
       "      <td>0.855727</td>\n",
       "      <td>-1.237783</td>\n",
       "      <td>0.721281</td>\n",
       "      <td>0.341355</td>\n",
       "      <td>1.010097</td>\n",
       "      <td>0.758540</td>\n",
       "      <td>...</td>\n",
       "      <td>0.881377</td>\n",
       "      <td>0.821496</td>\n",
       "      <td>1.078127</td>\n",
       "      <td>-1.134108</td>\n",
       "      <td>-0.492219</td>\n",
       "      <td>-2.671257</td>\n",
       "      <td>0.658693</td>\n",
       "      <td>-0.662002</td>\n",
       "      <td>-1.092476</td>\n",
       "      <td>-0.656790</td>\n",
       "    </tr>\n",
       "    <tr>\n",
       "      <th>1</th>\n",
       "      <td>-0.106929</td>\n",
       "      <td>0.277989</td>\n",
       "      <td>-0.937105</td>\n",
       "      <td>-0.484840</td>\n",
       "      <td>0.611536</td>\n",
       "      <td>0.098595</td>\n",
       "      <td>0.696569</td>\n",
       "      <td>-1.834421</td>\n",
       "      <td>-0.451052</td>\n",
       "      <td>-0.499635</td>\n",
       "      <td>...</td>\n",
       "      <td>-0.264674</td>\n",
       "      <td>0.821496</td>\n",
       "      <td>0.619326</td>\n",
       "      <td>0.848349</td>\n",
       "      <td>-1.764500</td>\n",
       "      <td>0.366786</td>\n",
       "      <td>-0.381349</td>\n",
       "      <td>0.522789</td>\n",
       "      <td>-1.092476</td>\n",
       "      <td>1.616150</td>\n",
       "    </tr>\n",
       "    <tr>\n",
       "      <th>2</th>\n",
       "      <td>0.514751</td>\n",
       "      <td>-0.387110</td>\n",
       "      <td>0.631365</td>\n",
       "      <td>0.174906</td>\n",
       "      <td>-0.121037</td>\n",
       "      <td>-1.980216</td>\n",
       "      <td>1.240235</td>\n",
       "      <td>1.066614</td>\n",
       "      <td>-0.783132</td>\n",
       "      <td>-0.499635</td>\n",
       "      <td>...</td>\n",
       "      <td>-0.598939</td>\n",
       "      <td>0.568728</td>\n",
       "      <td>0.619326</td>\n",
       "      <td>1.867222</td>\n",
       "      <td>0.433077</td>\n",
       "      <td>1.006374</td>\n",
       "      <td>0.138672</td>\n",
       "      <td>1.263284</td>\n",
       "      <td>0.573512</td>\n",
       "      <td>1.885821</td>\n",
       "    </tr>\n",
       "  </tbody>\n",
       "</table>\n",
       "<p>3 rows × 500 columns</p>\n",
       "</div>"
      ],
      "text/plain": [
       "        0         1         2         3         4         5         6    \\\n",
       "0 -1.350289 -0.453620 -0.834254 -1.254542  0.855727 -1.237783  0.721281   \n",
       "1 -0.106929  0.277989 -0.937105 -0.484840  0.611536  0.098595  0.696569   \n",
       "2  0.514751 -0.387110  0.631365  0.174906 -0.121037 -1.980216  1.240235   \n",
       "\n",
       "        7         8         9      ...          490       491       492  \\\n",
       "0  0.341355  1.010097  0.758540    ...     0.881377  0.821496  1.078127   \n",
       "1 -1.834421 -0.451052 -0.499635    ...    -0.264674  0.821496  0.619326   \n",
       "2  1.066614 -0.783132 -0.499635    ...    -0.598939  0.568728  0.619326   \n",
       "\n",
       "        493       494       495       496       497       498       499  \n",
       "0 -1.134108 -0.492219 -2.671257  0.658693 -0.662002 -1.092476 -0.656790  \n",
       "1  0.848349 -1.764500  0.366786 -0.381349  0.522789 -1.092476  1.616150  \n",
       "2  1.867222  0.433077  1.006374  0.138672  1.263284  0.573512  1.885821  \n",
       "\n",
       "[3 rows x 500 columns]"
      ]
     },
     "execution_count": 17,
     "metadata": {},
     "output_type": "execute_result"
    }
   ],
   "source": [
    "pd.DataFrame(scaled_dictionary['X_test']).head(3)"
   ]
  },
  {
   "cell_type": "code",
   "execution_count": 18,
   "metadata": {
    "collapsed": false
   },
   "outputs": [
    {
     "data": {
      "text/plain": [
       "(500, 500)"
      ]
     },
     "execution_count": 18,
     "metadata": {},
     "output_type": "execute_result"
    }
   ],
   "source": [
    "pd.DataFrame(scaled_dictionary['X_test']).shape"
   ]
  },
  {
   "cell_type": "code",
   "execution_count": 19,
   "metadata": {
    "collapsed": false
   },
   "outputs": [
    {
     "data": {
      "text/plain": [
       "StandardScaler(copy=True, with_mean=True, with_std=True)"
      ]
     },
     "execution_count": 19,
     "metadata": {},
     "output_type": "execute_result"
    }
   ],
   "source": [
    "scaled_dictionary['transformer']"
   ]
  },
  {
   "cell_type": "markdown",
   "metadata": {},
   "source": [
    "### Logistic Regression Pipeline Using `l1 Penalty`\n",
    "\n",
    "- going to vary levels of 'C' to help identify relevant features\n",
    "- writing a function to automate the process\n",
    "- going to compare number train, test scores and number of non-zero coefficients with our naive benchmark model (Step 1) which had C set at a high value (1E6) to ensure minimal regularization\n",
    "- LogisticRegression default sets C=1"
   ]
  },
  {
   "cell_type": "code",
   "execution_count": 20,
   "metadata": {
    "collapsed": true
   },
   "outputs": [],
   "source": [
    "# These are the C's we are going to test to identify features\n",
    "\n",
    "C_list = [0.001, 0.010, 0.015, 0.020, 0.025, 0.030, 0.040, 0.050, 0.1, 1, 100, 1000, 1E6]"
   ]
  },
  {
   "cell_type": "code",
   "execution_count": 21,
   "metadata": {
    "collapsed": true
   },
   "outputs": [],
   "source": [
    "def scenarios(test_model, data_dictionary):\n",
    "    \n",
    "    scenario_dictionary = general_model(test_model, data_dictionary)\n",
    "    \n",
    "    return {'C': C,\n",
    "            'train_score': data_dictionary['train_score'],\n",
    "            'test_score' : data_dictionary['test_score'],\n",
    "            'non_zero_coefs': np.count_nonzero(scenario_dictionary['model'].coef_[0])\n",
    "           }"
   ]
  },
  {
   "cell_type": "code",
   "execution_count": 22,
   "metadata": {
    "collapsed": false
   },
   "outputs": [
    {
     "data": {
      "text/html": [
       "<div>\n",
       "<table border=\"1\" class=\"dataframe\">\n",
       "  <thead>\n",
       "    <tr style=\"text-align: right;\">\n",
       "      <th></th>\n",
       "      <th>C</th>\n",
       "      <th>non_zero_coefs</th>\n",
       "      <th>test_score</th>\n",
       "      <th>train_score</th>\n",
       "    </tr>\n",
       "  </thead>\n",
       "  <tbody>\n",
       "    <tr>\n",
       "      <th>12</th>\n",
       "      <td>1000000.000</td>\n",
       "      <td>500</td>\n",
       "      <td>0.526</td>\n",
       "      <td>0.794667</td>\n",
       "    </tr>\n",
       "    <tr>\n",
       "      <th>11</th>\n",
       "      <td>1000.000</td>\n",
       "      <td>500</td>\n",
       "      <td>0.526</td>\n",
       "      <td>0.795333</td>\n",
       "    </tr>\n",
       "    <tr>\n",
       "      <th>10</th>\n",
       "      <td>100.000</td>\n",
       "      <td>500</td>\n",
       "      <td>0.526</td>\n",
       "      <td>0.795333</td>\n",
       "    </tr>\n",
       "    <tr>\n",
       "      <th>9</th>\n",
       "      <td>1.000</td>\n",
       "      <td>469</td>\n",
       "      <td>0.528</td>\n",
       "      <td>0.776667</td>\n",
       "    </tr>\n",
       "    <tr>\n",
       "      <th>8</th>\n",
       "      <td>0.100</td>\n",
       "      <td>265</td>\n",
       "      <td>0.586</td>\n",
       "      <td>0.748667</td>\n",
       "    </tr>\n",
       "    <tr>\n",
       "      <th>7</th>\n",
       "      <td>0.050</td>\n",
       "      <td>125</td>\n",
       "      <td>0.576</td>\n",
       "      <td>0.690000</td>\n",
       "    </tr>\n",
       "    <tr>\n",
       "      <th>6</th>\n",
       "      <td>0.040</td>\n",
       "      <td>74</td>\n",
       "      <td>0.572</td>\n",
       "      <td>0.664000</td>\n",
       "    </tr>\n",
       "    <tr>\n",
       "      <th>5</th>\n",
       "      <td>0.030</td>\n",
       "      <td>39</td>\n",
       "      <td>0.612</td>\n",
       "      <td>0.643333</td>\n",
       "    </tr>\n",
       "    <tr>\n",
       "      <th>4</th>\n",
       "      <td>0.025</td>\n",
       "      <td>15</td>\n",
       "      <td>0.620</td>\n",
       "      <td>0.636000</td>\n",
       "    </tr>\n",
       "    <tr>\n",
       "      <th>3</th>\n",
       "      <td>0.020</td>\n",
       "      <td>5</td>\n",
       "      <td>0.616</td>\n",
       "      <td>0.626000</td>\n",
       "    </tr>\n",
       "    <tr>\n",
       "      <th>2</th>\n",
       "      <td>0.015</td>\n",
       "      <td>2</td>\n",
       "      <td>0.610</td>\n",
       "      <td>0.622000</td>\n",
       "    </tr>\n",
       "    <tr>\n",
       "      <th>1</th>\n",
       "      <td>0.010</td>\n",
       "      <td>1</td>\n",
       "      <td>0.606</td>\n",
       "      <td>0.618000</td>\n",
       "    </tr>\n",
       "    <tr>\n",
       "      <th>0</th>\n",
       "      <td>0.001</td>\n",
       "      <td>0</td>\n",
       "      <td>0.486</td>\n",
       "      <td>0.504667</td>\n",
       "    </tr>\n",
       "  </tbody>\n",
       "</table>\n",
       "</div>"
      ],
      "text/plain": [
       "              C  non_zero_coefs  test_score  train_score\n",
       "12  1000000.000             500       0.526     0.794667\n",
       "11     1000.000             500       0.526     0.795333\n",
       "10      100.000             500       0.526     0.795333\n",
       "9         1.000             469       0.528     0.776667\n",
       "8         0.100             265       0.586     0.748667\n",
       "7         0.050             125       0.576     0.690000\n",
       "6         0.040              74       0.572     0.664000\n",
       "5         0.030              39       0.612     0.643333\n",
       "4         0.025              15       0.620     0.636000\n",
       "3         0.020               5       0.616     0.626000\n",
       "2         0.015               2       0.610     0.622000\n",
       "1         0.010               1       0.606     0.618000\n",
       "0         0.001               0       0.486     0.504667"
      ]
     },
     "execution_count": 22,
     "metadata": {},
     "output_type": "execute_result"
    }
   ],
   "source": [
    "scenarios_output = [scenarios(LogisticRegression(C=C, penalty='l1', n_jobs=-1), scaled_dictionary)\n",
    "                    for C in C_list]\n",
    "\n",
    "\n",
    "scenarios_output_df = pd.DataFrame(scenarios_output)\n",
    "scenarios_output_df.sort_values('C', ascending=False, inplace=True)\n",
    "scenarios_output_df"
   ]
  },
  {
   "cell_type": "markdown",
   "metadata": {},
   "source": [
    "**C = 1000000 is benchmark scenario -- Logistic Regression with no regularization**\n",
    "\n",
    "- Get some features eliminated using the default C=1\n",
    "\n",
    "- All features eliminated at C<=0.001\n",
    "\n",
    "- 0.015 <= C <= 0.030 looks like the range of C's to focus further analysis on as this yields limited number of features, relatively high train and test scores without overfitting (large difference between train and test scores)"
   ]
  },
  {
   "cell_type": "code",
   "execution_count": 23,
   "metadata": {
    "collapsed": false
   },
   "outputs": [
    {
     "data": {
      "text/plain": [
       "<matplotlib.legend.Legend at 0x11648a690>"
      ]
     },
     "execution_count": 23,
     "metadata": {},
     "output_type": "execute_result"
    },
    {
     "data": {
      "image/png": "[encoded data removed]",
      "text/plain": [
       "<matplotlib.figure.Figure at 0x116420110>"
      ]
     },
     "metadata": {},
     "output_type": "display_data"
    }
   ],
   "source": [
    "graph_df = scenarios_output_df[scenarios_output_df['C']<=0.100]\n",
    "\n",
    "plt.plot(graph_df['C'], graph_df['test_score'], label='test score')\n",
    "plt.plot(graph_df['C'], graph_df['train_score'], label='training score')\n",
    "plt.legend()"
   ]
  },
  {
   "cell_type": "code",
   "execution_count": 24,
   "metadata": {
    "collapsed": false
   },
   "outputs": [
    {
     "data": {
      "text/plain": [
       "<matplotlib.legend.Legend at 0x116480190>"
      ]
     },
     "execution_count": 24,
     "metadata": {},
     "output_type": "execute_result"
    },
    {
     "data": {
      "image/png": "[encoded data removed]",
      "text/plain": [
       "<matplotlib.figure.Figure at 0x116480610>"
      ]
     },
     "metadata": {},
     "output_type": "display_data"
    }
   ],
   "source": [
    "plt.plot(graph_df['C'], graph_df['non_zero_coefs'], label='non_zero_coefs')\n",
    "plt.legend()"
   ]
  }
 ],
 "metadata": {
  "anaconda-cloud": {},
  "kernelspec": {
   "display_name": "Python [default]",
   "language": "python",
   "name": "python2"
  },
  "language_info": {
   "codemirror_mode": {
    "name": "ipython",
    "version": 2
   },
   "file_extension": ".py",
   "mimetype": "text/x-python",
   "name": "python",
   "nbconvert_exporter": "python",
   "pygments_lexer": "ipython2",
   "version": "2.7.12"
  }
 },
 "nbformat": 4,
 "nbformat_minor": 1
}
